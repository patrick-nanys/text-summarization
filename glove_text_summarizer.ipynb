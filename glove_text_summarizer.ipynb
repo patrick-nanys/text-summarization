{
  "nbformat": 4,
  "nbformat_minor": 0,
  "metadata": {
    "colab": {
      "name": "glove_text_summarizer.ipynb",
      "provenance": [],
      "collapsed_sections": [],
      "include_colab_link": true
    },
    "kernelspec": {
      "name": "python3",
      "display_name": "Python 3"
    },
    "accelerator": "GPU"
  },
  "cells": [
    {
      "cell_type": "markdown",
      "metadata": {
        "id": "view-in-github",
        "colab_type": "text"
      },
      "source": [
        "<a href=\"https://colab.research.google.com/github/patrick-nanys/text-summarization/blob/main/glove_text_summarizer.ipynb\" target=\"_parent\"><img src=\"https://colab.research.google.com/assets/colab-badge.svg\" alt=\"Open In Colab\"/></a>"
      ]
    },
    {
      "cell_type": "markdown",
      "metadata": {
        "id": "8CLvBco2J-xK"
      },
      "source": [
        "## Deep learning homework - Milestone 2\n",
        "#####Topic: NLP - text summarization\n",
        "#####Authors: Patrick Nanys, Mate Jakab (Goal Diggers)"
      ]
    },
    {
      "cell_type": "markdown",
      "metadata": {
        "id": "pGZDgfz_a6HG"
      },
      "source": [
        "###1. Data load from xlsx \n",
        "\n",
        "> Source: https://www.kaggle.com/shashichander009/inshorts-news-data\n",
        "> Source2.0: https://www.kaggle.com/snap/amazon-fine-food-reviews\n",
        "\n"
      ]
    },
    {
      "cell_type": "code",
      "metadata": {
        "id": "5xvnnp7tDz5X"
      },
      "source": [
        "!\\cp drive/MyDrive/Colab\\ Notebooks/Deep\\ learning/reviews.xlsx reviews.xlsx"
      ],
      "execution_count": null,
      "outputs": []
    },
    {
      "cell_type": "code",
      "metadata": {
        "id": "FAEriAFohCba",
        "colab": {
          "base_uri": "https://localhost:8080/"
        },
        "outputId": "913adc0b-f9e8-4b99-9b10-9808a25e5867"
      },
      "source": [
        "import pandas as pd\n",
        "\n",
        "#xls = pd.read_excel(\"Inshorts Cleaned Data.xlsx\")\n",
        "xls = pd.read_excel(\"reviews.xlsx\")\n",
        "xls['headline_type'] = xls['Headline'].apply(type)\n",
        "xls.drop(xls[xls.headline_type != str].index, inplace=True)\n",
        "# Load articles, stories\n",
        "input_raw = xls['Short']\n",
        "# Load headlines for articles and stories\n",
        "output_raw = xls['Headline']\n",
        "\n",
        "# Show example\n",
        "print(input_raw.head(), output_raw.head())"
      ],
      "execution_count": null,
      "outputs": [
        {
          "output_type": "stream",
          "text": [
            "0    I have bought several of the Vitality canned d...\n",
            "1    Product arrived labeled as Jumbo Salted Peanut...\n",
            "2    This is a confection that has been around a fe...\n",
            "3    If you are looking for the secret ingredient i...\n",
            "4    Great taffy at a great price.  There was a wid...\n",
            "Name: Short, dtype: object 0    Good Quality Dog Food\n",
            "1        Not as Advertised\n",
            "2    \"Delight\" says it all\n",
            "3           Cough Medicine\n",
            "4              Great taffy\n",
            "Name: Headline, dtype: object\n"
          ],
          "name": "stdout"
        }
      ]
    },
    {
      "cell_type": "markdown",
      "metadata": {
        "id": "-5NArR5oguZC"
      },
      "source": [
        "##### Obtaining length data"
      ]
    },
    {
      "cell_type": "code",
      "metadata": {
        "id": "ZVFDLC_pg0FQ",
        "colab": {
          "base_uri": "https://localhost:8080/"
        },
        "outputId": "b20c226f-cea6-471d-9d6e-6aa1415874f1"
      },
      "source": [
        "input_lengths = pd.Series([len(x) for x in input_raw])\n",
        "output_lengths = pd.Series([len(str(x)) for x in output_raw])\n",
        "print('Inputs:\\n', input_lengths.describe())\n",
        "print('Outputs:\\n', output_lengths.describe())"
      ],
      "execution_count": null,
      "outputs": [
        {
          "output_type": "stream",
          "text": [
            "Inputs:\n",
            " count    568427.000000\n",
            "mean        436.239369\n",
            "std         445.354882\n",
            "min          12.000000\n",
            "25%         179.000000\n",
            "50%         302.000000\n",
            "75%         527.000000\n",
            "max       21409.000000\n",
            "dtype: float64\n",
            "Outputs:\n",
            " count    568427.000000\n",
            "mean         23.446990\n",
            "std          14.028431\n",
            "min           1.000000\n",
            "25%          13.000000\n",
            "50%          20.000000\n",
            "75%          30.000000\n",
            "max         128.000000\n",
            "dtype: float64\n"
          ],
          "name": "stdout"
        }
      ]
    },
    {
      "cell_type": "code",
      "metadata": {
        "id": "fvKS-MbphCPK"
      },
      "source": [
        "# maxlen\n",
        "# taking values > and round figured to 75th percentile\n",
        "# at the same time not leaving high variance\n",
        "encoder_maxlen = 525\n",
        "decoder_maxlen = 30"
      ],
      "execution_count": null,
      "outputs": []
    },
    {
      "cell_type": "code",
      "metadata": {
        "id": "xL15_ImQtNup"
      },
      "source": [
        "def dataset_split(X, Y, valid_split, test_split):\n",
        "  v_start = int(len(X)*(1-valid_split-test_split))\n",
        "  t_start = int(len(X)*(1-test_split))\n",
        "  X_train, Y_train = X[:v_start], Y[:v_start]\n",
        "  X_valid, Y_valid = X[v_start:t_start], Y[v_start:t_start]\n",
        "  X_test , Y_test  = X[t_start:], Y[t_start:]\n",
        "  return X_train, Y_train, X_valid, Y_valid, X_test, Y_test"
      ],
      "execution_count": null,
      "outputs": []
    },
    {
      "cell_type": "code",
      "metadata": {
        "id": "PpJ1ilXkPpqW"
      },
      "source": [
        ""
      ],
      "execution_count": null,
      "outputs": []
    },
    {
      "cell_type": "code",
      "metadata": {
        "id": "8oX677bmTujP"
      },
      "source": [
        "input_raw = input_raw[:50000]\n",
        "output_raw = output_raw[:50000]"
      ],
      "execution_count": null,
      "outputs": []
    },
    {
      "cell_type": "code",
      "metadata": {
        "id": "Mb8R6IFDXcAV"
      },
      "source": [
        "all_raw = input_raw.append(output_raw)"
      ],
      "execution_count": null,
      "outputs": []
    },
    {
      "cell_type": "code",
      "metadata": {
        "id": "JEaZZR6NeSjp"
      },
      "source": [
        "# run this if you want to make sure to include the start and end tokens\n",
        "bunch_of_start_token_text = ' '.join([start_token] * 1000)\n",
        "bunch_of_end_token_text = ' '.join([end_token] * 1000)\n",
        "\n",
        "all_raw.append(pd.Series(bunch_of_start_token_text)).append(pd.Series(bunch_of_end_token_text))"
      ],
      "execution_count": null,
      "outputs": []
    },
    {
      "cell_type": "code",
      "metadata": {
        "id": "8M15_G76jYPT"
      },
      "source": [
        "start_token = 'sostr'\n",
        "end_token = 'eostr'\n",
        "def apply_start_end(text):\n",
        "  return start_token + ' ' + text + ' ' + end_token"
      ],
      "execution_count": null,
      "outputs": []
    },
    {
      "cell_type": "code",
      "metadata": {
        "id": "t2eodRQIjgOq"
      },
      "source": [
        "import numpy as np\n",
        "\n",
        "input_raw = np.array(list(map(apply_start_end, input_raw)))\n",
        "output_raw = np.array(list(map(apply_start_end, output_raw)))"
      ],
      "execution_count": null,
      "outputs": []
    },
    {
      "cell_type": "markdown",
      "metadata": {
        "id": "97NOjXUxViTw"
      },
      "source": [
        "#### One vectorizer"
      ]
    },
    {
      "cell_type": "code",
      "metadata": {
        "id": "colgV4twVh56"
      },
      "source": [
        "import numpy as np\n",
        "from tensorflow.keras.layers.experimental.preprocessing import TextVectorization\n",
        "\n",
        "vectorizer = TextVectorization(max_tokens=40000, pad_to_max_tokens=False)\n",
        "\n",
        "vectorizer.adapt(np.array(all_raw))"
      ],
      "execution_count": null,
      "outputs": []
    },
    {
      "cell_type": "code",
      "metadata": {
        "colab": {
          "base_uri": "https://localhost:8080/"
        },
        "id": "XypSmj2RWRoi",
        "outputId": "81c4e188-a46c-4315-a535-bded0fdd1294"
      },
      "source": [
        "vocab = vectorizer.get_vocabulary()\n",
        "word_index = dict(zip(vocab, range(len(vocab))))\n",
        "len(vocab)"
      ],
      "execution_count": null,
      "outputs": [
        {
          "output_type": "execute_result",
          "data": {
            "text/plain": [
              "40000"
            ]
          },
          "metadata": {
            "tags": []
          },
          "execution_count": 114
        }
      ]
    },
    {
      "cell_type": "code",
      "metadata": {
        "id": "IStyZYv3nBMF"
      },
      "source": [
        "# load glove\n",
        "!wget http://nlp.stanford.edu/data/glove.6B.zip\n",
        "!unzip -q glove.6B.zip"
      ],
      "execution_count": null,
      "outputs": []
    },
    {
      "cell_type": "code",
      "metadata": {
        "colab": {
          "base_uri": "https://localhost:8080/"
        },
        "id": "xDfBaYkrWc_K",
        "outputId": "34085ddb-f49b-4f44-a7fa-f50e9bdfbb00"
      },
      "source": [
        "path_to_glove_file = 'glove.6B.100d.txt'\n",
        "EMBEDDING_DIM = 100\n",
        "\n",
        "glove_embeddings_index = {}\n",
        "with open(path_to_glove_file) as f:\n",
        "    for line in f:\n",
        "        word, coefs = line.split(maxsplit=1)\n",
        "        coefs = np.fromstring(coefs, \"f\", sep=\" \")\n",
        "        glove_embeddings_index[word] = coefs\n",
        "\n",
        "print(f'Found {len(glove_embeddings_index)} word vectors.')"
      ],
      "execution_count": null,
      "outputs": [
        {
          "output_type": "stream",
          "text": [
            "Found 400000 word vectors.\n"
          ],
          "name": "stdout"
        }
      ]
    },
    {
      "cell_type": "code",
      "metadata": {
        "colab": {
          "base_uri": "https://localhost:8080/"
        },
        "id": "7oRipctLWgvD",
        "outputId": "49d31e9b-c290-4f15-de8d-65397cc144d4"
      },
      "source": [
        "num_tokens = len(vocab) + 2\n",
        "hits = 0\n",
        "misses = 0\n",
        "\n",
        "# Prepare embedding matrix\n",
        "embedding_matrix = np.zeros((num_tokens, EMBEDDING_DIM))\n",
        "for word, i in word_index.items():\n",
        "  embedding_vector = glove_embeddings_index.get(word)\n",
        "  if embedding_vector is not None:\n",
        "    # Words not found in embedding index will be all-zeros.\n",
        "    # This includes the representation for \"padding\" and \"OOV\"\n",
        "    embedding_matrix[i] = embedding_vector\n",
        "    hits += 1\n",
        "  else:\n",
        "    misses += 1\n",
        "print(f'Converted {hits} words ({misses} misses)')"
      ],
      "execution_count": null,
      "outputs": [
        {
          "output_type": "stream",
          "text": [
            "Converted 23854 words (16146 misses)\n"
          ],
          "name": "stdout"
        }
      ]
    },
    {
      "cell_type": "code",
      "metadata": {
        "colab": {
          "base_uri": "https://localhost:8080/"
        },
        "id": "cfN-KH40WiEn",
        "outputId": "acc217df-d957-452b-96fc-32c2ef30da28"
      },
      "source": [
        "from tensorflow.keras.preprocessing.sequence import pad_sequences\n",
        "\n",
        "vec_X = vectorizer(np.array([[text] for text in input_raw])).numpy()\n",
        "vec_Y = vectorizer(np.array([[text] for text in output_raw])).numpy()\n",
        "X = pad_sequences(vec_X, maxlen=encoder_maxlen, padding='post', truncating='post')\n",
        "Y = pad_sequences(vec_Y, maxlen=decoder_maxlen, padding='post', truncating='post')\n",
        "X_train, Y_train, X_valid, Y_valid, X_test, Y_test = dataset_split(X, Y, valid_split=0.2, test_split=0.1)\n",
        "X_train.shape, Y_train.shape, X_valid.shape, Y_valid.shape, X_test.shape, Y_test.shape"
      ],
      "execution_count": null,
      "outputs": [
        {
          "output_type": "execute_result",
          "data": {
            "text/plain": [
              "((35000, 525), (35000, 30), (10000, 525), (10000, 30), (5000, 525), (5000, 30))"
            ]
          },
          "metadata": {
            "tags": []
          },
          "execution_count": 117
        }
      ]
    },
    {
      "cell_type": "code",
      "metadata": {
        "colab": {
          "base_uri": "https://localhost:8080/"
        },
        "id": "Nm3kg6byYBhM",
        "outputId": "4b9d1d2a-9b16-4806-ad34-d6585b7a411c"
      },
      "source": [
        "x_vocab = len(vocab) + 2\n",
        "y_vocab = len(vocab) + 2\n",
        "x_vocab, y_vocab"
      ],
      "execution_count": null,
      "outputs": [
        {
          "output_type": "execute_result",
          "data": {
            "text/plain": [
              "(40002, 40002)"
            ]
          },
          "metadata": {
            "tags": []
          },
          "execution_count": 118
        }
      ]
    },
    {
      "cell_type": "markdown",
      "metadata": {
        "id": "jplXrmW-VdIW"
      },
      "source": [
        "#### Two separate vectorizer"
      ]
    },
    {
      "cell_type": "code",
      "metadata": {
        "id": "Yr_u50DuNHMM"
      },
      "source": [
        "import numpy as np\n",
        "from tensorflow.keras.layers.experimental.preprocessing import TextVectorization\n",
        "\n",
        "input_vectorizer = TextVectorization(max_tokens=20000, output_sequence_length=encoder_maxlen)\n",
        "output_vectorizer = TextVectorization(max_tokens=20000, output_sequence_length=decoder_maxlen)\n",
        "\n",
        "input_vectorizer.adapt(np.array(input_raw))\n",
        "output_vectorizer.adapt(np.array(output_raw))"
      ],
      "execution_count": null,
      "outputs": []
    },
    {
      "cell_type": "code",
      "metadata": {
        "colab": {
          "base_uri": "https://localhost:8080/"
        },
        "id": "RxhUh6gKOGCW",
        "outputId": "97186e02-828b-4a98-f861-4cfb95a5370e"
      },
      "source": [
        "input_vectorizer.get_vocabulary()[:20], output_vectorizer.get_vocabulary()[:5]"
      ],
      "execution_count": null,
      "outputs": [
        {
          "output_type": "execute_result",
          "data": {
            "text/plain": [
              "(['', '[UNK]', 'the', 'i', 'and'], ['', '[UNK]', 'great', 'the', 'good'])"
            ]
          },
          "metadata": {
            "tags": []
          },
          "execution_count": 182
        }
      ]
    },
    {
      "cell_type": "code",
      "metadata": {
        "colab": {
          "base_uri": "https://localhost:8080/"
        },
        "id": "8Xk18zD_OzfP",
        "outputId": "dc65e520-8424-4c01-a0bc-d2cf65fcda7a"
      },
      "source": [
        "input_vocab = input_vectorizer.get_vocabulary()\n",
        "output_vocab = output_vectorizer.get_vocabulary()\n",
        "\n",
        "input_word_index = dict(zip(input_vocab, range(len(input_vocab))))\n",
        "output_word_index = dict(zip(output_vocab, range(len(output_vocab))))\n",
        "\n",
        "len(input_vocab), len(output_vocab)"
      ],
      "execution_count": null,
      "outputs": [
        {
          "output_type": "execute_result",
          "data": {
            "text/plain": [
              "(20000, 12117)"
            ]
          },
          "metadata": {
            "tags": []
          },
          "execution_count": 183
        }
      ]
    },
    {
      "cell_type": "code",
      "metadata": {
        "colab": {
          "base_uri": "https://localhost:8080/"
        },
        "id": "LBa5zpBSPTEg",
        "outputId": "4b014882-962e-4118-9c77-5dc04f90c74f"
      },
      "source": [
        "# load glove\n",
        "!wget http://nlp.stanford.edu/data/glove.6B.zip\n",
        "!unzip -q glove.6B.zip"
      ],
      "execution_count": null,
      "outputs": [
        {
          "output_type": "stream",
          "text": [
            "--2020-11-27 12:09:44--  http://nlp.stanford.edu/data/glove.6B.zip\n",
            "Resolving nlp.stanford.edu (nlp.stanford.edu)... 171.64.67.140\n",
            "Connecting to nlp.stanford.edu (nlp.stanford.edu)|171.64.67.140|:80... connected.\n",
            "HTTP request sent, awaiting response... 302 Found\n",
            "Location: https://nlp.stanford.edu/data/glove.6B.zip [following]\n",
            "--2020-11-27 12:09:44--  https://nlp.stanford.edu/data/glove.6B.zip\n",
            "Connecting to nlp.stanford.edu (nlp.stanford.edu)|171.64.67.140|:443... connected.\n",
            "HTTP request sent, awaiting response... 301 Moved Permanently\n",
            "Location: http://downloads.cs.stanford.edu/nlp/data/glove.6B.zip [following]\n",
            "--2020-11-27 12:09:44--  http://downloads.cs.stanford.edu/nlp/data/glove.6B.zip\n",
            "Resolving downloads.cs.stanford.edu (downloads.cs.stanford.edu)... 171.64.64.22\n",
            "Connecting to downloads.cs.stanford.edu (downloads.cs.stanford.edu)|171.64.64.22|:80... connected.\n",
            "HTTP request sent, awaiting response... 200 OK\n",
            "Length: 862182613 (822M) [application/zip]\n",
            "Saving to: ‘glove.6B.zip’\n",
            "\n",
            "glove.6B.zip        100%[===================>] 822.24M  2.05MB/s    in 6m 27s  \n",
            "\n",
            "2020-11-27 12:16:11 (2.12 MB/s) - ‘glove.6B.zip’ saved [862182613/862182613]\n",
            "\n"
          ],
          "name": "stdout"
        }
      ]
    },
    {
      "cell_type": "code",
      "metadata": {
        "colab": {
          "base_uri": "https://localhost:8080/"
        },
        "id": "f866BwX3PVen",
        "outputId": "117021c4-f066-4b34-a5b7-4378f0f202f2"
      },
      "source": [
        "path_to_glove_file = 'glove.6B.100d.txt'\n",
        "EMBEDDING_DIM = 100\n",
        "\n",
        "glove_embeddings_index = {}\n",
        "with open(path_to_glove_file) as f:\n",
        "    for line in f:\n",
        "        word, coefs = line.split(maxsplit=1)\n",
        "        coefs = np.fromstring(coefs, \"f\", sep=\" \")\n",
        "        glove_embeddings_index[word] = coefs\n",
        "\n",
        "print(f'Found {len(glove_embeddings_index)} word vectors.')"
      ],
      "execution_count": null,
      "outputs": [
        {
          "output_type": "stream",
          "text": [
            "Found 400000 word vectors.\n"
          ],
          "name": "stdout"
        }
      ]
    },
    {
      "cell_type": "code",
      "metadata": {
        "id": "PS3gOZ2eQmNG"
      },
      "source": [
        "def create_embedding_matrix(vocab, word_index):\n",
        "  num_tokens = len(vocab) + 2\n",
        "  hits = 0\n",
        "  misses = 0\n",
        "\n",
        "  # Prepare embedding matrix\n",
        "  embedding_matrix = np.zeros((num_tokens, EMBEDDING_DIM))\n",
        "  for word, i in word_index.items():\n",
        "    embedding_vector = glove_embeddings_index.get(word)\n",
        "    if embedding_vector is not None:\n",
        "      # Words not found in embedding index will be all-zeros.\n",
        "      # This includes the representation for \"padding\" and \"OOV\"\n",
        "      embedding_matrix[i] = embedding_vector\n",
        "      hits += 1\n",
        "    else:\n",
        "      misses += 1\n",
        "  print(f'Converted {hits} words ({misses} misses)')\n",
        "  return embedding_matrix"
      ],
      "execution_count": null,
      "outputs": []
    },
    {
      "cell_type": "code",
      "metadata": {
        "colab": {
          "base_uri": "https://localhost:8080/"
        },
        "id": "HByG-rUzSWtl",
        "outputId": "49125f01-5bc1-4963-e514-807766d7719e"
      },
      "source": [
        "input_embedding_matrix = create_embedding_matrix(input_vocab, input_word_index)\n",
        "output_embedding_matrix = create_embedding_matrix(output_vocab, output_word_index)"
      ],
      "execution_count": null,
      "outputs": [
        {
          "output_type": "stream",
          "text": [
            "Converted 15899 words (4101 misses)\n",
            "Converted 8958 words (3159 misses)\n"
          ],
          "name": "stdout"
        }
      ]
    },
    {
      "cell_type": "code",
      "metadata": {
        "id": "iBm-yt3cQuKL"
      },
      "source": [
        "X = input_vectorizer(np.array([[text] for text in input_raw])).numpy()\n",
        "Y = output_vectorizer(np.array([[text] for text in output_raw])).numpy()\n",
        "X_train, Y_train, X_valid, Y_valid, X_test, Y_test = dataset_split(X, Y, valid_split=0.2, test_split=0.1)"
      ],
      "execution_count": null,
      "outputs": []
    },
    {
      "cell_type": "code",
      "metadata": {
        "colab": {
          "base_uri": "https://localhost:8080/"
        },
        "id": "wc1uQctLUHjH",
        "outputId": "3c19366d-fa8f-48e8-f09d-b027c75d77aa"
      },
      "source": [
        "X_train.shape, Y_train.shape, X_valid.shape, Y_valid.shape, X_test.shape, Y_test.shape"
      ],
      "execution_count": null,
      "outputs": [
        {
          "output_type": "execute_result",
          "data": {
            "text/plain": [
              "((35000, 525), (35000, 30), (10000, 525), (10000, 30), (5000, 525), (5000, 30))"
            ]
          },
          "metadata": {
            "tags": []
          },
          "execution_count": 188
        }
      ]
    },
    {
      "cell_type": "code",
      "metadata": {
        "id": "RsJvM3ZsYrkJ",
        "colab": {
          "base_uri": "https://localhost:8080/"
        },
        "outputId": "84bd87f5-a5f8-4a06-9109-c8f525275c16"
      },
      "source": [
        "X_train.shape, Y_train.shape, X_valid.shape, Y_valid.shape, X_test.shape, Y_test.shape"
      ],
      "execution_count": null,
      "outputs": [
        {
          "output_type": "execute_result",
          "data": {
            "text/plain": [
              "((35000, 525), (35000, 30), (10000, 525), (10000, 30), (5000, 525), (5000, 30))"
            ]
          },
          "metadata": {
            "tags": []
          },
          "execution_count": 19
        }
      ]
    },
    {
      "cell_type": "code",
      "metadata": {
        "id": "5AjkbDf1aHlB",
        "colab": {
          "base_uri": "https://localhost:8080/"
        },
        "outputId": "c272c43d-6cbc-4624-dd89-36a3824baf6c"
      },
      "source": [
        "X_train.shape[0] + X_valid.shape[0] + X_test.shape[0]"
      ],
      "execution_count": null,
      "outputs": [
        {
          "output_type": "execute_result",
          "data": {
            "text/plain": [
              "50000"
            ]
          },
          "metadata": {
            "tags": []
          },
          "execution_count": 159
        }
      ]
    },
    {
      "cell_type": "code",
      "metadata": {
        "id": "eG_fxdvLLibO",
        "colab": {
          "base_uri": "https://localhost:8080/"
        },
        "outputId": "9ad90507-3213-461b-b7ec-68c53b9afc2f"
      },
      "source": [
        "x_vocab = len(input_vocab) + 2\n",
        "y_vocab = len(output_vocab) + 2\n",
        "x_vocab, y_vocab"
      ],
      "execution_count": null,
      "outputs": [
        {
          "output_type": "execute_result",
          "data": {
            "text/plain": [
              "(20002, 12119)"
            ]
          },
          "metadata": {
            "tags": []
          },
          "execution_count": 160
        }
      ]
    },
    {
      "cell_type": "code",
      "metadata": {
        "id": "4cS5f1AgVINV"
      },
      "source": [
        ""
      ],
      "execution_count": null,
      "outputs": []
    },
    {
      "cell_type": "code",
      "metadata": {
        "id": "3j0x8lrptYhC",
        "colab": {
          "base_uri": "https://localhost:8080/"
        },
        "outputId": "661a3ef4-fdbc-4b1c-f089-f271ea95bdfc"
      },
      "source": [
        "x_vocab = len(tokenizers[0].word_index)\n",
        "y_vocab = len(tokenizers[1].word_index)\n",
        "x_vocab, y_vocab"
      ],
      "execution_count": null,
      "outputs": [
        {
          "output_type": "execute_result",
          "data": {
            "text/plain": [
              "(43036, 11213)"
            ]
          },
          "metadata": {
            "tags": []
          },
          "execution_count": 99
        }
      ]
    },
    {
      "cell_type": "markdown",
      "metadata": {
        "id": "GspMEDS-qs57"
      },
      "source": [
        "# Training"
      ]
    },
    {
      "cell_type": "code",
      "metadata": {
        "id": "iiNQeGg3tbVN"
      },
      "source": [
        "import tensorflow.keras as keras\n",
        "from tensorflow.keras import Model\n",
        "from tensorflow.keras.layers import Input, LSTM, Embedding, Dense, Concatenate, Attention, Dropout, GlobalAveragePooling1D\n",
        "from tensorflow.keras.activations import softmax"
      ],
      "execution_count": null,
      "outputs": []
    },
    {
      "cell_type": "markdown",
      "metadata": {
        "id": "1RiyLPpasNOZ"
      },
      "source": [
        "### Architecture"
      ]
    },
    {
      "cell_type": "code",
      "metadata": {
        "id": "J5xxRw3crc-3"
      },
      "source": [
        "embedding_dim = 100 #50\n",
        "hidden_dim = 250 #60\n",
        "\n",
        "ENC_LSTM_NUM = 3 #3\n",
        "ENC_LSTM_DROPOUT = 0.4 #0.4\n",
        "ENC_LSTM_RECURRENT_DROPOUT = 0.4 #0.4\n",
        "\n",
        "# Architecture\n",
        "\n",
        "# Encoder\n",
        "enc_emb = Embedding(x_vocab,\n",
        "                    embedding_dim,\n",
        "                    embeddings_initializer=keras.initializers.Constant(embedding_matrix),\n",
        "                    trainable=False)\n",
        "enc_lstms = []\n",
        "for i in range(ENC_LSTM_NUM):\n",
        "  enc_lstms.append(LSTM(hidden_dim, return_sequences=True, return_state=True))\n",
        "dropout = Dropout(ENC_LSTM_DROPOUT)\n",
        "\n",
        "# Decoder\n",
        "dec_emb = Embedding(y_vocab,\n",
        "                    embedding_dim,\n",
        "                    embeddings_initializer=keras.initializers.Constant(embedding_matrix),\n",
        "                    trainable=False)\n",
        "dec_lstm = LSTM(hidden_dim, return_sequences=True, return_state=True)\n",
        "attn = Attention()\n",
        "concat = Concatenate()\n",
        "dec_fc = Dense(y_vocab, activation='softmax')\n"
      ],
      "execution_count": null,
      "outputs": []
    },
    {
      "cell_type": "markdown",
      "metadata": {
        "id": "eCRT-PAHsShB"
      },
      "source": [
        "### Building the model"
      ]
    },
    {
      "cell_type": "code",
      "metadata": {
        "id": "5cbN9TsFtxin",
        "colab": {
          "base_uri": "https://localhost:8080/"
        },
        "outputId": "715a71cd-2140-409a-9569-69c70d36983e"
      },
      "source": [
        "# Building the model\n",
        "\n",
        "# Encoder\n",
        "encoder_input = Input(shape=(encoder_maxlen,))\n",
        "enc_emb_out = enc_emb(encoder_input)\n",
        "lstm_in = enc_emb_out\n",
        "for i in range(ENC_LSTM_NUM - 1):\n",
        "  lstm_out, h, c = enc_lstms[i](lstm_in)\n",
        "  lstm_out = dropout(lstm_out)\n",
        "  lstm_in = lstm_out\n",
        "enc_output, enc_state_h, enc_state_c = enc_lstms[-1](lstm_in)\n",
        " \n",
        "# Decoder\n",
        "decoder_input = Input(shape=(None,))\n",
        "dec_emb_out = dec_emb(decoder_input)\n",
        "dec_output, dec_state_h, dec_state_c = dec_lstm(dec_emb_out, initial_state=[enc_state_h, enc_state_c])\n",
        "\n",
        "attn_out = attn([dec_output, enc_output])\n",
        "concat_out = concat([dec_output, attn_out])\n",
        "output = dec_fc(concat_out)\n",
        "\n",
        "model = Model([encoder_input, decoder_input], output)\n",
        "model.summary()"
      ],
      "execution_count": null,
      "outputs": [
        {
          "output_type": "stream",
          "text": [
            "Model: \"functional_25\"\n",
            "__________________________________________________________________________________________________\n",
            "Layer (type)                    Output Shape         Param #     Connected to                     \n",
            "==================================================================================================\n",
            "input_21 (InputLayer)           [(None, 525)]        0                                            \n",
            "__________________________________________________________________________________________________\n",
            "embedding_8 (Embedding)         (None, 525, 100)     4000200     input_21[0][0]                   \n",
            "__________________________________________________________________________________________________\n",
            "lstm_16 (LSTM)                  [(None, 525, 250), ( 351000      embedding_8[0][0]                \n",
            "__________________________________________________________________________________________________\n",
            "dropout_4 (Dropout)             (None, 525, 250)     0           lstm_16[0][0]                    \n",
            "                                                                 lstm_17[0][0]                    \n",
            "__________________________________________________________________________________________________\n",
            "lstm_17 (LSTM)                  [(None, 525, 250), ( 501000      dropout_4[0][0]                  \n",
            "__________________________________________________________________________________________________\n",
            "input_22 (InputLayer)           [(None, None)]       0                                            \n",
            "__________________________________________________________________________________________________\n",
            "embedding_9 (Embedding)         (None, None, 100)    4000200     input_22[0][0]                   \n",
            "__________________________________________________________________________________________________\n",
            "lstm_18 (LSTM)                  [(None, 525, 250), ( 501000      dropout_4[1][0]                  \n",
            "__________________________________________________________________________________________________\n",
            "lstm_19 (LSTM)                  [(None, None, 250),  351000      embedding_9[0][0]                \n",
            "                                                                 lstm_18[0][1]                    \n",
            "                                                                 lstm_18[0][2]                    \n",
            "__________________________________________________________________________________________________\n",
            "attention_4 (Attention)         (None, None, 250)    0           lstm_19[0][0]                    \n",
            "                                                                 lstm_18[0][0]                    \n",
            "__________________________________________________________________________________________________\n",
            "concatenate_4 (Concatenate)     (None, None, 500)    0           lstm_19[0][0]                    \n",
            "                                                                 attention_4[0][0]                \n",
            "__________________________________________________________________________________________________\n",
            "dense_4 (Dense)                 (None, None, 40002)  20041002    concatenate_4[0][0]              \n",
            "==================================================================================================\n",
            "Total params: 29,745,402\n",
            "Trainable params: 21,745,002\n",
            "Non-trainable params: 8,000,400\n",
            "__________________________________________________________________________________________________\n"
          ],
          "name": "stdout"
        }
      ]
    },
    {
      "cell_type": "code",
      "metadata": {
        "id": "VhAQD6ctsE_C"
      },
      "source": [
        "model.compile(optimizer='rmsprop', loss='sparse_categorical_crossentropy')"
      ],
      "execution_count": null,
      "outputs": []
    },
    {
      "cell_type": "markdown",
      "metadata": {
        "id": "a44gkWMnsXlA"
      },
      "source": [
        "### Training"
      ]
    },
    {
      "cell_type": "code",
      "metadata": {
        "id": "7GdBagPjoCA6"
      },
      "source": [
        "def get_model_input(X, Y):\n",
        "  \"\"\"\n",
        "    List of X and Y where Ys last word is excluded\n",
        "  \"\"\"\n",
        "  return [X, Y[:,:-1]]\n",
        "\n",
        "def get_model_output(Y):\n",
        "  \"\"\"\n",
        "    Y input shifted right (first word excluded) and made it third dimensional\n",
        "  \"\"\"\n",
        "  return Y.reshape(Y.shape[0],Y.shape[1], 1)[:,1:]"
      ],
      "execution_count": null,
      "outputs": []
    },
    {
      "cell_type": "code",
      "metadata": {
        "id": "nlxBwsdmw4CT"
      },
      "source": [
        "from tensorflow.keras.callbacks import EarlyStopping\n",
        "from tensorflow.keras.callbacks import ModelCheckpoint\n",
        "\n",
        "SAVED_MODEL_PATH = 'model.hdf5'\n",
        "PATIENCE = 3\n",
        "\n",
        "earlystopping = EarlyStopping(patience=PATIENCE, monitor='val_loss', mode='min', verbose=1)\n",
        "checkpointer = ModelCheckpoint(filepath=SAVED_MODEL_PATH, save_best_only=True, verbose=0)"
      ],
      "execution_count": null,
      "outputs": []
    },
    {
      "cell_type": "code",
      "metadata": {
        "id": "VBjqAZ8Ik0o2",
        "colab": {
          "base_uri": "https://localhost:8080/"
        },
        "outputId": "cd4fc977-fe7e-4f19-e635-57fc5aa62ce6"
      },
      "source": [
        "history = model.fit(\n",
        "    get_model_input(X_train, Y_train),\n",
        "    get_model_output(Y_train),\n",
        "    epochs=20,\n",
        "    batch_size=32, #32,\n",
        "    validation_data=(\n",
        "        get_model_input(X_valid, Y_valid),\n",
        "        get_model_output(Y_valid)\n",
        "        ),\n",
        "    callbacks=[checkpointer, earlystopping]\n",
        "    )"
      ],
      "execution_count": null,
      "outputs": [
        {
          "output_type": "stream",
          "text": [
            "Epoch 1/20\n",
            "1094/1094 [==============================] - 249s 227ms/step - loss: 1.0298 - val_loss: 0.9739\n",
            "Epoch 2/20\n",
            "1094/1094 [==============================] - 249s 228ms/step - loss: 0.9109 - val_loss: 0.9381\n",
            "Epoch 3/20\n",
            "1094/1094 [==============================] - 249s 228ms/step - loss: 0.8777 - val_loss: 0.9234\n",
            "Epoch 4/20\n",
            "1094/1094 [==============================] - 249s 228ms/step - loss: 0.8561 - val_loss: 0.9113\n",
            "Epoch 5/20\n",
            "1094/1094 [==============================] - 248s 227ms/step - loss: 0.8384 - val_loss: 0.9076\n",
            "Epoch 6/20\n",
            "1094/1094 [==============================] - 249s 227ms/step - loss: 0.8266 - val_loss: 0.9005\n",
            "Epoch 7/20\n",
            "1094/1094 [==============================] - 249s 227ms/step - loss: 0.8118 - val_loss: 0.8951\n",
            "Epoch 8/20\n",
            "1094/1094 [==============================] - 243s 222ms/step - loss: 0.8070 - val_loss: 0.9002\n",
            "Epoch 9/20\n",
            "1094/1094 [==============================] - 243s 223ms/step - loss: 0.7939 - val_loss: 0.8971\n",
            "Epoch 10/20\n",
            "1094/1094 [==============================] - 244s 223ms/step - loss: 0.7854 - val_loss: 0.9223\n",
            "Epoch 00010: early stopping\n"
          ],
          "name": "stdout"
        }
      ]
    },
    {
      "cell_type": "markdown",
      "metadata": {
        "id": "6HZM04VylypP"
      },
      "source": [
        "#### No start/end tokens\n",
        "\n",
        "Epoch 1/20\n",
        "1094/1094 [==============================] - 212s 193ms/step - loss: 0.7794 - val_loss: 0.7334\n",
        "Epoch 2/20\n",
        "1094/1094 [==============================] - 210s 192ms/step - loss: 0.6813 - val_loss: 0.7034\n",
        "Epoch 3/20\n",
        "1094/1094 [==============================] - 210s 192ms/step - loss: 0.6538 - val_loss: 0.6909\n",
        "Epoch 4/20\n",
        "1094/1094 [==============================] - 210s 192ms/step - loss: 0.6345 - val_loss: 0.6831\n",
        "Epoch 5/20\n",
        "1094/1094 [==============================] - 210s 192ms/step - loss: 0.6211 - val_loss: 0.6762\n",
        "Epoch 6/20\n",
        "1094/1094 [==============================] - 210s 192ms/step - loss: 0.6079 - val_loss: 0.6729\n",
        "Epoch 7/20\n",
        "1094/1094 [==============================] - 210s 192ms/step - loss: 0.5947 - val_loss: 0.6728\n",
        "Epoch 8/20\n",
        "1094/1094 [==============================] - 210s 192ms/step - loss: 0.5855 - val_loss: 0.6722\n",
        "Epoch 9/20\n",
        "1094/1094 [==============================] - 207s 189ms/step - loss: 0.5792 - val_loss: 0.6741\n",
        "Epoch 00009: early stopping"
      ]
    },
    {
      "cell_type": "markdown",
      "metadata": {
        "id": "DzcY9ExpyeWB"
      },
      "source": [
        "#### Start/end token on outputs\n",
        "\n",
        "Epoch 1/20\n",
        "1094/1094 [==============================] - 211s 193ms/step - loss: 1.0006 - val_loss: 0.9524\n",
        "Epoch 2/20\n",
        "1094/1094 [==============================] - 210s 192ms/step - loss: 0.8935 - val_loss: 0.9232\n",
        "Epoch 3/20\n",
        "1094/1094 [==============================] - 210s 192ms/step - loss: 0.8647 - val_loss: 0.9081\n",
        "Epoch 4/20\n",
        "1094/1094 [==============================] - 207s 189ms/step - loss: 0.8473 - val_loss: 0.9112\n",
        "Epoch 5/20\n",
        "1094/1094 [==============================] - 210s 192ms/step - loss: 0.8302 - val_loss: 0.8922\n",
        "Epoch 6/20\n",
        "1094/1094 [==============================] - 210s 192ms/step - loss: 0.8158 - val_loss: 0.8922\n",
        "Epoch 7/20\n",
        "1094/1094 [==============================] - 207s 189ms/step - loss: 0.8120 - val_loss: 0.8955\n",
        "Epoch 8/20\n",
        "1094/1094 [==============================] - 210s 192ms/step - loss: 0.7940 - val_loss: 0.8864\n",
        "Epoch 9/20\n",
        "1094/1094 [==============================] - 207s 189ms/step - loss: 0.7868 - val_loss: 0.8866\n",
        "Epoch 10/20\n",
        "1094/1094 [==============================] - 207s 189ms/step - loss: 0.7802 - val_loss: 0.8960\n",
        "Epoch 11/20\n",
        "1094/1094 [==============================] - 207s 189ms/step - loss: 0.7737 - val_loss: 0.9004\n",
        "Epoch 00011: early stopping"
      ]
    },
    {
      "cell_type": "markdown",
      "metadata": {
        "id": "kL6aBYU49ntW"
      },
      "source": [
        "#### Start/end token on everything\n",
        "\n",
        "Epoch 1/20\n",
        "1094/1094 [==============================] - 211s 192ms/step - loss: 1.0010 - val_loss: 0.9541\n",
        "Epoch 2/20\n",
        "1094/1094 [==============================] - 210s 192ms/step - loss: 0.8964 - val_loss: 0.9220\n",
        "Epoch 3/20\n",
        "1094/1094 [==============================] - 209s 191ms/step - loss: 0.8699 - val_loss: 0.9037\n",
        "Epoch 4/20\n",
        "1094/1094 [==============================] - 210s 192ms/step - loss: 0.8387 - val_loss: 0.8923\n",
        "Epoch 5/20\n",
        "1094/1094 [==============================] - 209s 191ms/step - loss: 0.8181 - val_loss: 0.8856\n",
        "Epoch 6/20\n",
        "1094/1094 [==============================] - 209s 191ms/step - loss: 0.8104 - val_loss: 0.8819\n",
        "Epoch 7/20\n",
        "1094/1094 [==============================] - 206s 189ms/step - loss: 0.7953 - val_loss: 0.8827\n",
        "Epoch 8/20\n",
        "1094/1094 [==============================] - 209s 191ms/step - loss: 0.7853 - val_loss: 0.8780\n",
        "Epoch 9/20\n",
        "1094/1094 [==============================] - 206s 189ms/step - loss: 0.7793 - val_loss: 0.8818\n",
        "Epoch 10/20\n",
        "1094/1094 [==============================] - 207s 189ms/step - loss: 0.7731 - val_loss: 0.8866\n",
        "Epoch 11/20\n",
        "1094/1094 [==============================] - 207s 189ms/step - loss: 0.7663 - val_loss: 0.8929\n",
        "Epoch 00011: early stopping"
      ]
    },
    {
      "cell_type": "markdown",
      "metadata": {
        "id": "3_xoptL8iQql"
      },
      "source": [
        "#### Start/end token everything with only one tokenizer (40000 tokens, sostr/eostr not included in vocab)\n",
        "\n",
        "Epoch 1/20\n",
        "1094/1094 [==============================] - 248s 227ms/step - loss: 1.0282 - val_loss: 0.9718\n",
        "Epoch 2/20\n",
        "1094/1094 [==============================] - 247s 225ms/step - loss: 0.9128 - val_loss: 0.9401\n",
        "Epoch 3/20\n",
        "1094/1094 [==============================] - 247s 226ms/step - loss: 0.8783 - val_loss: 0.9174\n",
        "Epoch 4/20\n",
        "1094/1094 [==============================] - 247s 226ms/step - loss: 0.8551 - val_loss: 0.9112\n",
        "Epoch 5/20\n",
        "1094/1094 [==============================] - 247s 226ms/step - loss: 0.8380 - val_loss: 0.9045\n",
        "Epoch 6/20\n",
        "1094/1094 [==============================] - 247s 226ms/step - loss: 0.8228 - val_loss: 0.8978\n",
        "Epoch 7/20\n",
        "1094/1094 [==============================] - 247s 226ms/step - loss: 0.8104 - val_loss: 0.8960\n",
        "Epoch 8/20\n",
        "1094/1094 [==============================] - 247s 226ms/step - loss: 0.7991 - val_loss: 0.8926\n",
        "Epoch 9/20\n",
        "1094/1094 [==============================] - 248s 226ms/step - loss: 0.7885 - val_loss: 0.8903\n",
        "Epoch 10/20\n",
        "1094/1094 [==============================] - 241s 220ms/step - loss: 0.7800 - val_loss: 0.8923\n",
        "Epoch 11/20\n",
        "1094/1094 [==============================] - 247s 226ms/step - loss: 0.7667 - val_loss: 0.8902\n",
        "Epoch 12/20\n",
        "1094/1094 [==============================] - 241s 220ms/step - loss: 0.7553 - val_loss: 0.8925\n",
        "Epoch 13/20\n",
        "1094/1094 [==============================] - 241s 220ms/step - loss: 0.7455 - val_loss: 0.8922\n",
        "Epoch 14/20\n",
        "1094/1094 [==============================] - 241s 220ms/step - loss: 0.7385 - val_loss: 0.8922\n",
        "Epoch 00014: early stopping"
      ]
    },
    {
      "cell_type": "markdown",
      "metadata": {
        "id": "u_Vs4CQL8-xq"
      },
      "source": [
        "#### Start/end token everything with only one tokenizer (40000 tokens)\n",
        "\n",
        "Epoch 1/20\n",
        "1094/1094 [==============================] - 250s 228ms/step - loss: 1.0322 - val_loss: 0.9750\n",
        "Epoch 2/20\n",
        "1094/1094 [==============================] - 249s 228ms/step - loss: 0.9134 - val_loss: 0.9435\n",
        "Epoch 3/20\n",
        "1094/1094 [==============================] - 249s 228ms/step - loss: 0.8806 - val_loss: 0.9225\n",
        "Epoch 4/20\n",
        "1094/1094 [==============================] - 249s 228ms/step - loss: 0.8614 - val_loss: 0.9173\n",
        "Epoch 5/20\n",
        "1094/1094 [==============================] - 249s 228ms/step - loss: 0.8447 - val_loss: 0.9090\n",
        "Epoch 6/20\n",
        "1094/1094 [==============================] - 249s 228ms/step - loss: 0.8296 - val_loss: 0.9032\n",
        "Epoch 7/20\n",
        "1094/1094 [==============================] - 250s 228ms/step - loss: 0.8185 - val_loss: 0.9009\n",
        "Epoch 8/20\n",
        "1094/1094 [==============================] - 244s 223ms/step - loss: 0.8081 - val_loss: 0.9030\n",
        "Epoch 9/20\n",
        "1094/1094 [==============================] - 243s 223ms/step - loss: 0.8023 - val_loss: 0.9044\n",
        "Epoch 10/20\n",
        "1094/1094 [==============================] - 250s 228ms/step - loss: 0.7940 - val_loss: 0.8989\n",
        "Epoch 11/20\n",
        "1094/1094 [==============================] - 244s 223ms/step - loss: 0.7825 - val_loss: 0.9064\n",
        "Epoch 12/20\n",
        "1094/1094 [==============================] - 244s 223ms/step - loss: 0.7806 - val_loss: 0.9073\n",
        "Epoch 13/20\n",
        "1094/1094 [==============================] - 244s 223ms/step - loss: 0.7735 - val_loss: 0.9058\n",
        "Epoch 00013: early stopping"
      ]
    },
    {
      "cell_type": "markdown",
      "metadata": {
        "id": "S9UYqEvrdZaW"
      },
      "source": [
        "#### Start/end token everything with only one tokenizer (15000 tokens)\n",
        "\n",
        "Epoch 1/20\n",
        "1094/1094 [==============================] - 181s 166ms/step - loss: 0.9847 - val_loss: 0.9354\n",
        "Epoch 2/20\n",
        "1094/1094 [==============================] - 181s 166ms/step - loss: 0.8793 - val_loss: 0.9061\n",
        "Epoch 3/20\n",
        "1094/1094 [==============================] - 181s 166ms/step - loss: 0.8514 - val_loss: 0.8883\n",
        "Epoch 4/20\n",
        "1094/1094 [==============================] - 181s 166ms/step - loss: 0.8289 - val_loss: 0.8793\n",
        "Epoch 5/20\n",
        "1094/1094 [==============================] - 182s 166ms/step - loss: 0.8135 - val_loss: 0.8744\n",
        "Epoch 6/20\n",
        "1094/1094 [==============================] - 181s 166ms/step - loss: 0.7963 - val_loss: 0.8651\n",
        "Epoch 7/20\n",
        "1094/1094 [==============================] - 179s 163ms/step - loss: 0.7806 - val_loss: 0.8732\n",
        "Epoch 8/20\n",
        "1094/1094 [==============================] - 182s 166ms/step - loss: 0.7723 - val_loss: 0.8638\n",
        "Epoch 9/20\n",
        "1094/1094 [==============================] - 181s 166ms/step - loss: 0.7632 - val_loss: 0.8636\n",
        "Epoch 10/20\n",
        "1094/1094 [==============================] - 179s 164ms/step - loss: 0.7527 - val_loss: 0.8664\n",
        "Epoch 11/20\n",
        "1094/1094 [==============================] - 179s 164ms/step - loss: 0.7440 - val_loss: 0.8643\n",
        "Epoch 12/20\n",
        "1094/1094 [==============================] - 179s 163ms/step - loss: 0.7365 - val_loss: 0.8687\n",
        "Epoch 00012: early stopping"
      ]
    },
    {
      "cell_type": "code",
      "metadata": {
        "id": "Qa-isMFdrAwn"
      },
      "source": [
        "!\\cp model.hdf5 drive/MyDrive/Colab\\ Notebooks/Deep\\ learning/model.hdf5"
      ],
      "execution_count": null,
      "outputs": []
    },
    {
      "cell_type": "code",
      "metadata": {
        "id": "C6i9tJDZsWkz"
      },
      "source": [
        "!\\cp drive/MyDrive/Colab\\ Notebooks/Deep\\ learning/one_vectorizer_model.hdf5 one_vectorizer_model.hdf5"
      ],
      "execution_count": null,
      "outputs": []
    },
    {
      "cell_type": "code",
      "metadata": {
        "id": "aHB82c46OEk0"
      },
      "source": [
        "model.load_weights('one_vectorizer_model.hdf5')"
      ],
      "execution_count": null,
      "outputs": []
    },
    {
      "cell_type": "code",
      "metadata": {
        "id": "kTjzGEI0fNjV"
      },
      "source": [
        "import pandas as pd\n",
        "import seaborn as sns\n",
        "import matplotlib.pyplot as plt\n",
        "\n",
        "def plot_metrics(histories):\n",
        "  \"\"\"\n",
        "  Function for plotting the loss of models that we run.\n",
        "  So its not only visible from tensorboard.\n",
        "  \"\"\"\n",
        "  \n",
        "  loss, val_loss = [], []\n",
        "  for history in histories:\n",
        "    loss += history.history['loss']\n",
        "    val_loss += history.history['val_loss']\n",
        "\n",
        "  epochs = [x+1 for x in range(len(loss))]\n",
        "\n",
        "  loss_data = pd.DataFrame({'epoch':epochs, 'train_loss':loss, 'valid_loss':val_loss})\n",
        "  sns.lineplot(x='epoch', y='value', hue='variable', data=pd.melt(loss_data, ['epoch']))"
      ],
      "execution_count": null,
      "outputs": []
    },
    {
      "cell_type": "code",
      "metadata": {
        "id": "Bhkh1S7ffPEH",
        "colab": {
          "base_uri": "https://localhost:8080/",
          "height": 279
        },
        "outputId": "caa37e35-a361-451a-ecb1-17aaa1241ecf"
      },
      "source": [
        "plot_metrics([history])"
      ],
      "execution_count": null,
      "outputs": [
        {
          "output_type": "display_data",
          "data": {
            "image/png": "[encoded data removed]",
            "text/plain": [
              "<Figure size 432x288 with 1 Axes>"
            ]
          },
          "metadata": {
            "tags": [],
            "needs_background": "light"
          }
        }
      ]
    },
    {
      "cell_type": "markdown",
      "metadata": {
        "id": "h9jg-sYVqoS3"
      },
      "source": [
        "# Inference"
      ]
    },
    {
      "cell_type": "code",
      "metadata": {
        "id": "iRtsDYqIyH3Z"
      },
      "source": [
        "# Encode\n",
        "encoder_model = Model(encoder_input, [enc_output, enc_state_h, enc_state_c])\n",
        "\n",
        "# Inputs for decode\n",
        "dec_state_input_h = Input(shape=(hidden_dim,))\n",
        "dec_state_input_c = Input(shape=(hidden_dim,))\n",
        "dec_hidden_state_input = Input(shape=(encoder_maxlen, hidden_dim))\n",
        "\n",
        "# Decode\n",
        "dec_emb_out2 = dec_emb(decoder_input)\n",
        "dec_output2, dec_state_h2, dec_state_c2 = dec_lstm(dec_emb_out2, initial_state=[dec_state_input_h, dec_state_input_c])\n",
        "attn_out2 = attn([dec_output2, dec_hidden_state_input])\n",
        "concat_out2 = concat([dec_output2, attn_out2])\n",
        "output = dec_fc(concat_out2)\n",
        "\n",
        "decoder_model = Model([decoder_input] + [dec_hidden_state_input, dec_state_input_h, dec_state_input_c], [output] + [dec_state_h2, dec_state_c2])"
      ],
      "execution_count": null,
      "outputs": []
    },
    {
      "cell_type": "code",
      "metadata": {
        "id": "0f7LD2lPgoqD"
      },
      "source": [
        "input_index_word = dict(zip(range(len(input_vocab)), input_vocab))\n",
        "output_index_word = dict(zip(range(len(output_vocab)), output_vocab))\n",
        "\n",
        "reverse_target_word_index=output_index_word\n",
        "reverse_source_word_index=input_index_word\n",
        "target_word_index=output_word_index"
      ],
      "execution_count": null,
      "outputs": []
    },
    {
      "cell_type": "code",
      "metadata": {
        "id": "niKRgub0hr-p"
      },
      "source": [
        "index_word = dict(zip(range(len(vocab)), vocab))\n",
        "\n",
        "reverse_target_word_index=index_word\n",
        "reverse_source_word_index=index_word\n",
        "target_word_index=word_index"
      ],
      "execution_count": null,
      "outputs": []
    },
    {
      "cell_type": "code",
      "metadata": {
        "id": "WcjYXDL75LvC"
      },
      "source": [
        "reverse_target_word_index=tokenizers[1].index_word\n",
        "reverse_source_word_index=tokenizers[0].index_word\n",
        "target_word_index=tokenizers[1].word_index"
      ],
      "execution_count": null,
      "outputs": []
    },
    {
      "cell_type": "code",
      "metadata": {
        "id": "7CqtUoHy32RK"
      },
      "source": [
        "import numpy as np\n",
        "\n",
        "def decode_sequence(input_seq):\n",
        "  e_out, e_h, e_c = encoder_model.predict(input_seq)\n",
        "\n",
        "  target_seq = np.zeros((1, 1))\n",
        "  target_seq[0, 0] = target_word_index[start_token]\n",
        "\n",
        "  stop_condition = False\n",
        "  decoded_sentence = ''\n",
        "  while not stop_condition:\n",
        "\n",
        "    output_tokens, h, c = decoder_model.predict([target_seq] + [e_out, e_h, e_c])\n",
        "\n",
        "    # sample a token\n",
        "    sampled_token_index = np.argmax(output_tokens[0, -1, :])\n",
        "    try:\n",
        "      sampled_token = reverse_target_word_index[sampled_token_index]\n",
        "    except:\n",
        "      sampled_token = '[UNK]'\n",
        "\n",
        "    if(sampled_token != end_token):\n",
        "      decoded_sentence += ' '+sampled_token\n",
        "\n",
        "    # Exit condition: either hit max length or find stop word.\n",
        "    if (sampled_token == end_token  or len(decoded_sentence.split()) >= (decoder_maxlen - 1)):\n",
        "      stop_condition = True\n",
        "\n",
        "    # Update the target sequence (of length 1).\n",
        "    target_seq = np.zeros((1,1))\n",
        "    target_seq[0, 0] = sampled_token_index\n",
        "\n",
        "    # Update internal states\n",
        "    e_h, e_c = h, c\n",
        "\n",
        "  return decoded_sentence"
      ],
      "execution_count": null,
      "outputs": []
    },
    {
      "cell_type": "code",
      "metadata": {
        "id": "i-lAJgH68itY"
      },
      "source": [
        "import numpy as np\n",
        "\n",
        "def decode_sequence2(input_seq, length):\n",
        "  e_out, e_h, e_c = encoder_model.predict(input_seq)\n",
        "\n",
        "  target_seq = np.zeros((1, 1))\n",
        "  target_seq[0, 0] = input_seq[0][0]\n",
        "\n",
        "  decoded_sentence = reverse_source_word_index[input_seq[0][0]]\n",
        "  print('first: ', decoded_sentence)\n",
        "  for _ in range(length):\n",
        "\n",
        "    output_tokens, h, c = decoder_model.predict([target_seq] + [e_out, e_h, e_c])\n",
        "\n",
        "    # sample a token\n",
        "    sampled_token_index = np.argmax(output_tokens[0, -1, :][1:]) + 1\n",
        "    try:\n",
        "      sampled_token = reverse_target_word_index[sampled_token_index]\n",
        "    except:\n",
        "      sampled_token = '[UNK]'\n",
        "\n",
        "    decoded_sentence += ' ' + sampled_token\n",
        "\n",
        "    # Update the target sequence (of length 1).\n",
        "    target_seq = np.zeros((1,1))\n",
        "    target_seq[0, 0] = sampled_token_index\n",
        "\n",
        "    # Update internal states\n",
        "    e_h, e_c = h, c\n",
        "\n",
        "  return decoded_sentence"
      ],
      "execution_count": null,
      "outputs": []
    },
    {
      "cell_type": "code",
      "metadata": {
        "id": "mnRSImsUnHoX"
      },
      "source": [
        "import numpy as np\n",
        "\n",
        "def decode_sequence3(input_seq):\n",
        "  e_out, e_h, e_c = encoder_model.predict(input_seq)\n",
        "\n",
        "  target_seq = np.zeros((1, 1))\n",
        "  target_seq[0, 0] = target_word_index['[UNK]']\n",
        "\n",
        "  stop_condition = False\n",
        "  decoded_sentence = ''\n",
        "  while not stop_condition:\n",
        "\n",
        "    output_tokens, h, c = decoder_model.predict([target_seq] + [e_out, e_h, e_c])\n",
        "\n",
        "    # sample a token\n",
        "    sampled_token_index = np.argmax(output_tokens[0, -1, :])\n",
        "    try:\n",
        "      sampled_token = reverse_target_word_index[sampled_token_index]\n",
        "    except:\n",
        "      sampled_token = '[UNK]'\n",
        "\n",
        "    if(sampled_token != '[UNK]'):\n",
        "      decoded_sentence += ' '+sampled_token\n",
        "\n",
        "    # Exit condition: either hit max length or find stop word.\n",
        "    if (sampled_token == '[UNK]'  or len(decoded_sentence.split()) >= (decoder_maxlen - 1)):\n",
        "      stop_condition = True\n",
        "\n",
        "    # Update the target sequence (of length 1).\n",
        "    target_seq = np.zeros((1,1))\n",
        "    target_seq[0, 0] = sampled_token_index\n",
        "\n",
        "    # Update internal states\n",
        "    e_h, e_c = h, c\n",
        "\n",
        "  return decoded_sentence"
      ],
      "execution_count": null,
      "outputs": []
    },
    {
      "cell_type": "code",
      "metadata": {
        "id": "1WXzdaDm9R1R"
      },
      "source": [
        "def seq2summary(input_seq):\n",
        "    newString=''\n",
        "    for item in input_seq:\n",
        "        if(item != 0 and item != target_word_index[start_token] and item != target_word_index[end_token]):\n",
        "          try:\n",
        "            new_str = reverse_target_word_index[item]\n",
        "          except:\n",
        "            new_str = '[UNK]'\n",
        "          newString = newString + new_str + ' '\n",
        "    return newString\n",
        "\n",
        "def seq2summary2(input_seq):\n",
        "    newString=''\n",
        "    for item in input_seq:\n",
        "        if(item != 0):\n",
        "          try:\n",
        "            new_str = reverse_target_word_index[item]\n",
        "          except:\n",
        "            new_str = '[UNK]'\n",
        "          newString = newString + new_str + ' '\n",
        "    return newString\n",
        "\n",
        "def seq2summary3(input_seq):\n",
        "    newString=''\n",
        "    for item in input_seq:\n",
        "        if(item != 0):\n",
        "          try:\n",
        "            new_str = reverse_target_word_index[item]\n",
        "          except:\n",
        "            new_str = '[UNK]'\n",
        "          newString = newString + new_str + ' '\n",
        "    return newString\n",
        "\n",
        "def seq2text(input_seq):\n",
        "    newString=''\n",
        "    for item in input_seq:\n",
        "      if(item != 0):\n",
        "        try:\n",
        "          new_str = reverse_source_word_index[item]\n",
        "        except:\n",
        "          new_str = '[UNK]'\n",
        "        newString = newString + new_str + ' '\n",
        "    return newString"
      ],
      "execution_count": null,
      "outputs": []
    },
    {
      "cell_type": "markdown",
      "metadata": {
        "id": "Qiiy3PgyMjKA"
      },
      "source": [
        "#### No start/end tokens"
      ]
    },
    {
      "cell_type": "code",
      "metadata": {
        "id": "gks2rIBct9Qj",
        "colab": {
          "base_uri": "https://localhost:8080/"
        },
        "outputId": "adf4cba2-79f9-465e-ad6e-3b5ad71da9a2"
      },
      "source": [
        "for i in range(5):\n",
        "    print(\"Text:\",seq2text(X_train[i]))\n",
        "    print(\"Original title:\",seq2summary2(Y_train[i]))\n",
        "    print(\"Predicted title:\",decode_sequence2(X_train[i].reshape(1, -1), len([x for x in Y_train[i] if x != 0])))\n",
        "    print(\"\\n\")"
      ],
      "execution_count": null,
      "outputs": [
        {
          "output_type": "stream",
          "text": [
            "Text: i have bought several of the vitality canned dog food products and have found them all to be of good quality the product looks more like a stew than a processed meat and it smells better my labrador is finicky and she appreciates this product better than most \n",
            "Original title: good quality dog food \n",
            "first:  i\n",
            "Predicted title: i best dog food for\n",
            "\n",
            "\n",
            "Text: product arrived labeled as jumbo salted [UNK] peanuts were actually small sized unsalted not sure if this was an error or if the vendor intended to represent the product as jumbo \n",
            "Original title: not as advertised \n",
            "first:  product\n",
            "Predicted title: product the best but\n",
            "\n",
            "\n",
            "Text: this is a confection that has been around a few centuries it is a light [UNK] citrus gelatin with nuts in this case [UNK] and it is cut into tiny squares and then liberally coated with powdered sugar and it is a tiny mouthful of heaven not too chewy and very flavorful i highly recommend this yummy treat if you are familiar with the story of cs [UNK] the lion the witch and the wardrobe this is the treat that [UNK] [UNK] into selling out his brother and sisters to the witch \n",
            "Original title: delight says it all \n",
            "first:  this\n",
            "Predicted title: this favorite flavor of the\n",
            "\n",
            "\n",
            "Text: if you are looking for the secret ingredient in robitussin i believe i have found it i got this in addition to the root beer extract i ordered which was good and made some cherry soda the flavor is very medicinal \n",
            "Original title: cough medicine \n",
            "first:  if\n",
            "Predicted title: if a good\n",
            "\n",
            "\n",
            "Text: great taffy at a great price there was a wide assortment of yummy taffy delivery was very quick if your a taffy lover this is a deal \n",
            "Original title: great taffy \n",
            "first:  great\n",
            "Predicted title: great love it\n",
            "\n",
            "\n"
          ],
          "name": "stdout"
        }
      ]
    },
    {
      "cell_type": "markdown",
      "metadata": {
        "id": "gei912S8dwdz"
      },
      "source": [
        "#### Start/end token everything with only one tokenizer (40000 tokens, sostr/eostr not included in vocab)"
      ]
    },
    {
      "cell_type": "code",
      "metadata": {
        "id": "-eIj3AXi46sE",
        "colab": {
          "base_uri": "https://localhost:8080/"
        },
        "outputId": "1a6c74bc-aff2-41d6-b16c-f90f2926f6c3"
      },
      "source": [
        "for i in range(10):\n",
        "    i = i\n",
        "    print(\"Text:\",seq2text(X_train[i]))\n",
        "    print(\"Original title:\",seq2summary3(Y_train[i]))\n",
        "    print(\"Predicted title:\",decode_sequence3(X_train[i].reshape(1, -1)))\n",
        "    print(\"\\n\")"
      ],
      "execution_count": null,
      "outputs": [
        {
          "output_type": "stream",
          "text": [
            "Text: [UNK] i have bought several of the vitality canned dog food products and have found them all to be of good quality the product looks more like a stew than a processed meat and it smells better my labrador is finicky and she appreciates this product better than most [UNK] \n",
            "Original title: [UNK] good quality dog food [UNK] \n",
            "Predicted title:  great for dogs\n",
            "\n",
            "\n",
            "Text: [UNK] product arrived labeled as jumbo salted peanutsthe peanuts were actually small sized unsalted not sure if this was an error or if the vendor intended to represent the product as jumbo [UNK] \n",
            "Original title: [UNK] not as advertised [UNK] \n",
            "Predicted title:  not what i expected\n",
            "\n",
            "\n",
            "Text: [UNK] this is a confection that has been around a few centuries it is a light pillowy citrus gelatin with nuts in this case filberts and it is cut into tiny squares and then liberally coated with powdered sugar and it is a tiny mouthful of heaven not too chewy and very flavorful i highly recommend this yummy treat if you are familiar with the story of cs [UNK] the lion the witch and the wardrobe this is the treat that seduces edmund into selling out his brother and sisters to the witch [UNK] \n",
            "Original title: [UNK] delight says it all [UNK] \n",
            "Predicted title:  great for your little\n",
            "\n",
            "\n",
            "Text: [UNK] if you are looking for the secret ingredient in robitussin i believe i have found it i got this in addition to the root beer extract i ordered which was good and made some cherry soda the flavor is very medicinal [UNK] \n",
            "Original title: [UNK] cough medicine [UNK] \n",
            "Predicted title:  great taste\n",
            "\n",
            "\n",
            "Text: [UNK] great taffy at a great price there was a wide assortment of yummy taffy delivery was very quick if your a taffy lover this is a deal [UNK] \n",
            "Original title: [UNK] great taffy [UNK] \n",
            "Predicted title:  great product\n",
            "\n",
            "\n",
            "Text: [UNK] i got a wild hair for taffy and ordered this five pound bag the taffy was all very enjoyable with many flavors watermelon root beer melon peppermint grape etc my only complaint is there was a bit too much [UNK] licoriceflavored pieces just not my particular favorites between me my kids and my husband this lasted only two weeks i would recommend this brand of taffy it was a delightful treat [UNK] \n",
            "Original title: [UNK] nice taffy [UNK] \n",
            "Predicted title:  great for those who are the best\n",
            "\n",
            "\n",
            "Text: [UNK] this saltwater taffy had great flavors and was very soft and chewy each candy was individually wrapped well none of the candies were stuck together which did happen in the expensive version [UNK] would highly recommend this candy i served it at a [UNK] party and everyone loved it [UNK] \n",
            "Original title: [UNK] great just as good as the expensive brands [UNK] \n",
            "Predicted title:  great product\n",
            "\n",
            "\n",
            "Text: [UNK] this taffy is so good it is very soft and chewy the flavors are amazing i would definitely recommend you buying it very satisfying [UNK] \n",
            "Original title: [UNK] wonderful tasty taffy [UNK] \n",
            "Predicted title:  great product\n",
            "\n",
            "\n",
            "Text: [UNK] right now im mostly just sprouting this so my cats can eat the grass they love it i rotate it around with wheatgrass and rye too [UNK] \n",
            "Original title: [UNK] yay barley [UNK] \n",
            "Predicted title:  great for cats\n",
            "\n",
            "\n",
            "Text: [UNK] this is a very healthy dog food good for their digestion also good for small puppies my dog eats her required amount at every feeding [UNK] \n",
            "Original title: [UNK] healthy dog food [UNK] \n",
            "Predicted title:  great for dogs\n",
            "\n",
            "\n"
          ],
          "name": "stdout"
        }
      ]
    },
    {
      "cell_type": "markdown",
      "metadata": {
        "id": "m6a7biMsdmgo"
      },
      "source": [
        "#### Start/end token everything with only one tokenizer (15000 tokens)"
      ]
    },
    {
      "cell_type": "code",
      "metadata": {
        "id": "xgaYSF8Xl4dw",
        "colab": {
          "base_uri": "https://localhost:8080/"
        },
        "outputId": "2cac6fa5-2b99-4a8c-af08-c94599059ab0"
      },
      "source": [
        "for i in range(10):\n",
        "    i = i\n",
        "    print(\"Text:\",seq2summary(X_train[i]))\n",
        "    print(\"Original title:\",seq2summary(Y_train[i]))\n",
        "    print(\"Predicted title:\",decode_sequence(X_train[i].reshape(1, -1)))\n",
        "    print(\"\\n\")"
      ],
      "execution_count": null,
      "outputs": [
        {
          "output_type": "stream",
          "text": [
            "Text: i have bought several of the vitality canned dog food products and have found them all to be of good quality the product looks more like a stew than a processed meat and it smells better my labrador is finicky and she appreciates this product better than most \n",
            "Original title: good quality dog food \n",
            "Predicted title:  great product\n",
            "\n",
            "\n",
            "Text: product arrived labeled as jumbo salted [UNK] peanuts were actually small sized unsalted not sure if this was an error or if the vendor intended to represent the product as jumbo \n",
            "Original title: not as advertised \n",
            "Predicted title:  great product\n",
            "\n",
            "\n",
            "Text: this is a confection that has been around a few centuries it is a light [UNK] citrus gelatin with nuts in this case [UNK] and it is cut into tiny squares and then liberally coated with powdered sugar and it is a tiny mouthful of heaven not too chewy and very flavorful i highly recommend this yummy treat if you are familiar with the story of cs [UNK] the lion the witch and the wardrobe this is the treat that [UNK] [UNK] into selling out his brother and sisters to the witch \n",
            "Original title: delight says it all \n",
            "Predicted title:  great product\n",
            "\n",
            "\n",
            "Text: if you are looking for the secret ingredient in [UNK] i believe i have found it i got this in addition to the root beer extract i ordered which was good and made some cherry soda the flavor is very medicinal \n",
            "Original title: cough medicine \n",
            "Predicted title:  great taste\n",
            "\n",
            "\n",
            "Text: great taffy at a great price there was a wide assortment of yummy taffy delivery was very quick if your a taffy lover this is a deal \n",
            "Original title: great taffy \n",
            "Predicted title:  great product\n",
            "\n",
            "\n",
            "Text: i got a wild hair for taffy and ordered this five pound bag the taffy was all very enjoyable with many flavors watermelon root beer melon peppermint grape etc my only complaint is there was a bit too much [UNK] [UNK] pieces just not my particular favorites between me my kids and my husband this lasted only two weeks i would recommend this brand of taffy it was a delightful treat \n",
            "Original title: nice taffy \n",
            "Predicted title:  great product\n",
            "\n",
            "\n",
            "Text: this [UNK] taffy had great flavors and was very soft and chewy each candy was individually wrapped well none of the candies were stuck together which did happen in the expensive version [UNK] would highly recommend this candy i served it at a [UNK] party and everyone loved it \n",
            "Original title: great just as good as the expensive brands \n",
            "Predicted title:  great product\n",
            "\n",
            "\n",
            "Text: this taffy is so good it is very soft and chewy the flavors are amazing i would definitely recommend you buying it very satisfying \n",
            "Original title: wonderful tasty taffy \n",
            "Predicted title:  great taste and good for you\n",
            "\n",
            "\n",
            "Text: right now im mostly just sprouting this so my cats can eat the grass they love it i rotate it around with wheatgrass and rye too \n",
            "Original title: yay barley \n",
            "Predicted title:  great product\n",
            "\n",
            "\n",
            "Text: this is a very healthy dog food good for their digestion also good for small puppies my dog eats her required amount at every feeding \n",
            "Original title: healthy dog food \n",
            "Predicted title:  great product\n",
            "\n",
            "\n"
          ],
          "name": "stdout"
        }
      ]
    }
  ]
}