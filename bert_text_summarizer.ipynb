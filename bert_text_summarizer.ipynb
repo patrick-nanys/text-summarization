{
  "nbformat": 4,
  "nbformat_minor": 0,
  "metadata": {
    "colab": {
      "name": "bert_text_summarizer.ipynb",
      "provenance": [],
      "collapsed_sections": [
        "h0CyGJ3cgoT0",
        "eF4knn3xhpj8",
        "yJiyIJYciIgT",
        "QqLinn2u88J6",
        "papK44dU9hRk"
      ],
      "include_colab_link": true
    },
    "kernelspec": {
      "name": "python3",
      "display_name": "Python 3"
    },
    "widgets": {
      "application/vnd.jupyter.widget-state+json": {
        "51c2bb2bb2364e5887094ebe6da2cadb": {
          "model_module": "@jupyter-widgets/controls",
          "model_name": "HBoxModel",
          "state": {
            "_view_name": "HBoxView",
            "_dom_classes": [],
            "_model_name": "HBoxModel",
            "_view_module": "@jupyter-widgets/controls",
            "_model_module_version": "1.5.0",
            "_view_count": null,
            "_view_module_version": "1.5.0",
            "box_style": "",
            "layout": "IPY_MODEL_718cbd32ab964b7280503b7a3f05b01e",
            "_model_module": "@jupyter-widgets/controls",
            "children": [
              "IPY_MODEL_078a09e9c9a8495bbcd008c2c91cf33e",
              "IPY_MODEL_c61ce0f5715542a68011c3b048f7fd93"
            ]
          }
        },
        "718cbd32ab964b7280503b7a3f05b01e": {
          "model_module": "@jupyter-widgets/base",
          "model_name": "LayoutModel",
          "state": {
            "_view_name": "LayoutView",
            "grid_template_rows": null,
            "right": null,
            "justify_content": null,
            "_view_module": "@jupyter-widgets/base",
            "overflow": null,
            "_model_module_version": "1.2.0",
            "_view_count": null,
            "flex_flow": null,
            "width": null,
            "min_width": null,
            "border": null,
            "align_items": null,
            "bottom": null,
            "_model_module": "@jupyter-widgets/base",
            "top": null,
            "grid_column": null,
            "overflow_y": null,
            "overflow_x": null,
            "grid_auto_flow": null,
            "grid_area": null,
            "grid_template_columns": null,
            "flex": null,
            "_model_name": "LayoutModel",
            "justify_items": null,
            "grid_row": null,
            "max_height": null,
            "align_content": null,
            "visibility": null,
            "align_self": null,
            "height": null,
            "min_height": null,
            "padding": null,
            "grid_auto_rows": null,
            "grid_gap": null,
            "max_width": null,
            "order": null,
            "_view_module_version": "1.2.0",
            "grid_template_areas": null,
            "object_position": null,
            "object_fit": null,
            "grid_auto_columns": null,
            "margin": null,
            "display": null,
            "left": null
          }
        },
        "078a09e9c9a8495bbcd008c2c91cf33e": {
          "model_module": "@jupyter-widgets/controls",
          "model_name": "FloatProgressModel",
          "state": {
            "_view_name": "ProgressView",
            "style": "IPY_MODEL_78b46ce5dac74bd8a91c99e200b853e7",
            "_dom_classes": [],
            "description": "100%",
            "_model_name": "FloatProgressModel",
            "bar_style": "success",
            "max": 50000,
            "_view_module": "@jupyter-widgets/controls",
            "_model_module_version": "1.5.0",
            "value": 50000,
            "_view_count": null,
            "_view_module_version": "1.5.0",
            "orientation": "horizontal",
            "min": 0,
            "description_tooltip": null,
            "_model_module": "@jupyter-widgets/controls",
            "layout": "IPY_MODEL_c3d3d8ef26eb436a88fb10b87fc8fd5c"
          }
        },
        "c61ce0f5715542a68011c3b048f7fd93": {
          "model_module": "@jupyter-widgets/controls",
          "model_name": "HTMLModel",
          "state": {
            "_view_name": "HTMLView",
            "style": "IPY_MODEL_a27eda090306487b97ae51dc3157cddf",
            "_dom_classes": [],
            "description": "",
            "_model_name": "HTMLModel",
            "placeholder": "​",
            "_view_module": "@jupyter-widgets/controls",
            "_model_module_version": "1.5.0",
            "value": " 50000/50000 [01:34&lt;00:00, 530.51it/s]",
            "_view_count": null,
            "_view_module_version": "1.5.0",
            "description_tooltip": null,
            "_model_module": "@jupyter-widgets/controls",
            "layout": "IPY_MODEL_f7eb589db4514c4e93e49ec174897619"
          }
        },
        "78b46ce5dac74bd8a91c99e200b853e7": {
          "model_module": "@jupyter-widgets/controls",
          "model_name": "ProgressStyleModel",
          "state": {
            "_view_name": "StyleView",
            "_model_name": "ProgressStyleModel",
            "description_width": "initial",
            "_view_module": "@jupyter-widgets/base",
            "_model_module_version": "1.5.0",
            "_view_count": null,
            "_view_module_version": "1.2.0",
            "bar_color": null,
            "_model_module": "@jupyter-widgets/controls"
          }
        },
        "c3d3d8ef26eb436a88fb10b87fc8fd5c": {
          "model_module": "@jupyter-widgets/base",
          "model_name": "LayoutModel",
          "state": {
            "_view_name": "LayoutView",
            "grid_template_rows": null,
            "right": null,
            "justify_content": null,
            "_view_module": "@jupyter-widgets/base",
            "overflow": null,
            "_model_module_version": "1.2.0",
            "_view_count": null,
            "flex_flow": null,
            "width": null,
            "min_width": null,
            "border": null,
            "align_items": null,
            "bottom": null,
            "_model_module": "@jupyter-widgets/base",
            "top": null,
            "grid_column": null,
            "overflow_y": null,
            "overflow_x": null,
            "grid_auto_flow": null,
            "grid_area": null,
            "grid_template_columns": null,
            "flex": null,
            "_model_name": "LayoutModel",
            "justify_items": null,
            "grid_row": null,
            "max_height": null,
            "align_content": null,
            "visibility": null,
            "align_self": null,
            "height": null,
            "min_height": null,
            "padding": null,
            "grid_auto_rows": null,
            "grid_gap": null,
            "max_width": null,
            "order": null,
            "_view_module_version": "1.2.0",
            "grid_template_areas": null,
            "object_position": null,
            "object_fit": null,
            "grid_auto_columns": null,
            "margin": null,
            "display": null,
            "left": null
          }
        },
        "a27eda090306487b97ae51dc3157cddf": {
          "model_module": "@jupyter-widgets/controls",
          "model_name": "DescriptionStyleModel",
          "state": {
            "_view_name": "StyleView",
            "_model_name": "DescriptionStyleModel",
            "description_width": "",
            "_view_module": "@jupyter-widgets/base",
            "_model_module_version": "1.5.0",
            "_view_count": null,
            "_view_module_version": "1.2.0",
            "_model_module": "@jupyter-widgets/controls"
          }
        },
        "f7eb589db4514c4e93e49ec174897619": {
          "model_module": "@jupyter-widgets/base",
          "model_name": "LayoutModel",
          "state": {
            "_view_name": "LayoutView",
            "grid_template_rows": null,
            "right": null,
            "justify_content": null,
            "_view_module": "@jupyter-widgets/base",
            "overflow": null,
            "_model_module_version": "1.2.0",
            "_view_count": null,
            "flex_flow": null,
            "width": null,
            "min_width": null,
            "border": null,
            "align_items": null,
            "bottom": null,
            "_model_module": "@jupyter-widgets/base",
            "top": null,
            "grid_column": null,
            "overflow_y": null,
            "overflow_x": null,
            "grid_auto_flow": null,
            "grid_area": null,
            "grid_template_columns": null,
            "flex": null,
            "_model_name": "LayoutModel",
            "justify_items": null,
            "grid_row": null,
            "max_height": null,
            "align_content": null,
            "visibility": null,
            "align_self": null,
            "height": null,
            "min_height": null,
            "padding": null,
            "grid_auto_rows": null,
            "grid_gap": null,
            "max_width": null,
            "order": null,
            "_view_module_version": "1.2.0",
            "grid_template_areas": null,
            "object_position": null,
            "object_fit": null,
            "grid_auto_columns": null,
            "margin": null,
            "display": null,
            "left": null
          }
        },
        "2b1ec8f77cd64989b4b009111ffa5554": {
          "model_module": "@jupyter-widgets/controls",
          "model_name": "HBoxModel",
          "state": {
            "_view_name": "HBoxView",
            "_dom_classes": [],
            "_model_name": "HBoxModel",
            "_view_module": "@jupyter-widgets/controls",
            "_model_module_version": "1.5.0",
            "_view_count": null,
            "_view_module_version": "1.5.0",
            "box_style": "",
            "layout": "IPY_MODEL_f6894cc94551463e969b9404f3c1c313",
            "_model_module": "@jupyter-widgets/controls",
            "children": [
              "IPY_MODEL_464e34752e6048a0970081d687e49e96",
              "IPY_MODEL_61a6791dd6ce4d26bf7d13e395d441da"
            ]
          }
        },
        "f6894cc94551463e969b9404f3c1c313": {
          "model_module": "@jupyter-widgets/base",
          "model_name": "LayoutModel",
          "state": {
            "_view_name": "LayoutView",
            "grid_template_rows": null,
            "right": null,
            "justify_content": null,
            "_view_module": "@jupyter-widgets/base",
            "overflow": null,
            "_model_module_version": "1.2.0",
            "_view_count": null,
            "flex_flow": null,
            "width": null,
            "min_width": null,
            "border": null,
            "align_items": null,
            "bottom": null,
            "_model_module": "@jupyter-widgets/base",
            "top": null,
            "grid_column": null,
            "overflow_y": null,
            "overflow_x": null,
            "grid_auto_flow": null,
            "grid_area": null,
            "grid_template_columns": null,
            "flex": null,
            "_model_name": "LayoutModel",
            "justify_items": null,
            "grid_row": null,
            "max_height": null,
            "align_content": null,
            "visibility": null,
            "align_self": null,
            "height": null,
            "min_height": null,
            "padding": null,
            "grid_auto_rows": null,
            "grid_gap": null,
            "max_width": null,
            "order": null,
            "_view_module_version": "1.2.0",
            "grid_template_areas": null,
            "object_position": null,
            "object_fit": null,
            "grid_auto_columns": null,
            "margin": null,
            "display": null,
            "left": null
          }
        },
        "464e34752e6048a0970081d687e49e96": {
          "model_module": "@jupyter-widgets/controls",
          "model_name": "FloatProgressModel",
          "state": {
            "_view_name": "ProgressView",
            "style": "IPY_MODEL_feb8dee5f5464068a8f5c8fe36879580",
            "_dom_classes": [],
            "description": "100%",
            "_model_name": "FloatProgressModel",
            "bar_style": "success",
            "max": 50000,
            "_view_module": "@jupyter-widgets/controls",
            "_model_module_version": "1.5.0",
            "value": 50000,
            "_view_count": null,
            "_view_module_version": "1.5.0",
            "orientation": "horizontal",
            "min": 0,
            "description_tooltip": null,
            "_model_module": "@jupyter-widgets/controls",
            "layout": "IPY_MODEL_6012e802455a48ecb79be562f215461a"
          }
        },
        "61a6791dd6ce4d26bf7d13e395d441da": {
          "model_module": "@jupyter-widgets/controls",
          "model_name": "HTMLModel",
          "state": {
            "_view_name": "HTMLView",
            "style": "IPY_MODEL_b8bb7cf43aeb4e7b9c85dbe3fc5ef157",
            "_dom_classes": [],
            "description": "",
            "_model_name": "HTMLModel",
            "placeholder": "​",
            "_view_module": "@jupyter-widgets/controls",
            "_model_module_version": "1.5.0",
            "value": " 50000/50000 [00:02&lt;00:00, 18825.03it/s]",
            "_view_count": null,
            "_view_module_version": "1.5.0",
            "description_tooltip": null,
            "_model_module": "@jupyter-widgets/controls",
            "layout": "IPY_MODEL_412a54aaae924565b9eac11d81ac1b89"
          }
        },
        "feb8dee5f5464068a8f5c8fe36879580": {
          "model_module": "@jupyter-widgets/controls",
          "model_name": "ProgressStyleModel",
          "state": {
            "_view_name": "StyleView",
            "_model_name": "ProgressStyleModel",
            "description_width": "initial",
            "_view_module": "@jupyter-widgets/base",
            "_model_module_version": "1.5.0",
            "_view_count": null,
            "_view_module_version": "1.2.0",
            "bar_color": null,
            "_model_module": "@jupyter-widgets/controls"
          }
        },
        "6012e802455a48ecb79be562f215461a": {
          "model_module": "@jupyter-widgets/base",
          "model_name": "LayoutModel",
          "state": {
            "_view_name": "LayoutView",
            "grid_template_rows": null,
            "right": null,
            "justify_content": null,
            "_view_module": "@jupyter-widgets/base",
            "overflow": null,
            "_model_module_version": "1.2.0",
            "_view_count": null,
            "flex_flow": null,
            "width": null,
            "min_width": null,
            "border": null,
            "align_items": null,
            "bottom": null,
            "_model_module": "@jupyter-widgets/base",
            "top": null,
            "grid_column": null,
            "overflow_y": null,
            "overflow_x": null,
            "grid_auto_flow": null,
            "grid_area": null,
            "grid_template_columns": null,
            "flex": null,
            "_model_name": "LayoutModel",
            "justify_items": null,
            "grid_row": null,
            "max_height": null,
            "align_content": null,
            "visibility": null,
            "align_self": null,
            "height": null,
            "min_height": null,
            "padding": null,
            "grid_auto_rows": null,
            "grid_gap": null,
            "max_width": null,
            "order": null,
            "_view_module_version": "1.2.0",
            "grid_template_areas": null,
            "object_position": null,
            "object_fit": null,
            "grid_auto_columns": null,
            "margin": null,
            "display": null,
            "left": null
          }
        },
        "b8bb7cf43aeb4e7b9c85dbe3fc5ef157": {
          "model_module": "@jupyter-widgets/controls",
          "model_name": "DescriptionStyleModel",
          "state": {
            "_view_name": "StyleView",
            "_model_name": "DescriptionStyleModel",
            "description_width": "",
            "_view_module": "@jupyter-widgets/base",
            "_model_module_version": "1.5.0",
            "_view_count": null,
            "_view_module_version": "1.2.0",
            "_model_module": "@jupyter-widgets/controls"
          }
        },
        "412a54aaae924565b9eac11d81ac1b89": {
          "model_module": "@jupyter-widgets/base",
          "model_name": "LayoutModel",
          "state": {
            "_view_name": "LayoutView",
            "grid_template_rows": null,
            "right": null,
            "justify_content": null,
            "_view_module": "@jupyter-widgets/base",
            "overflow": null,
            "_model_module_version": "1.2.0",
            "_view_count": null,
            "flex_flow": null,
            "width": null,
            "min_width": null,
            "border": null,
            "align_items": null,
            "bottom": null,
            "_model_module": "@jupyter-widgets/base",
            "top": null,
            "grid_column": null,
            "overflow_y": null,
            "overflow_x": null,
            "grid_auto_flow": null,
            "grid_area": null,
            "grid_template_columns": null,
            "flex": null,
            "_model_name": "LayoutModel",
            "justify_items": null,
            "grid_row": null,
            "max_height": null,
            "align_content": null,
            "visibility": null,
            "align_self": null,
            "height": null,
            "min_height": null,
            "padding": null,
            "grid_auto_rows": null,
            "grid_gap": null,
            "max_width": null,
            "order": null,
            "_view_module_version": "1.2.0",
            "grid_template_areas": null,
            "object_position": null,
            "object_fit": null,
            "grid_auto_columns": null,
            "margin": null,
            "display": null,
            "left": null
          }
        },
        "77d546d98b784fed9c73460fc9a01ea5": {
          "model_module": "@jupyter-widgets/controls",
          "model_name": "HBoxModel",
          "state": {
            "_view_name": "HBoxView",
            "_dom_classes": [],
            "_model_name": "HBoxModel",
            "_view_module": "@jupyter-widgets/controls",
            "_model_module_version": "1.5.0",
            "_view_count": null,
            "_view_module_version": "1.5.0",
            "box_style": "",
            "layout": "IPY_MODEL_13130b217e554cb587784d0a770dbcf1",
            "_model_module": "@jupyter-widgets/controls",
            "children": [
              "IPY_MODEL_c1c90cee148c4165a278d8ae4afe4993",
              "IPY_MODEL_f12ec219469d4e049ebc2b5a9fa66f2c"
            ]
          }
        },
        "13130b217e554cb587784d0a770dbcf1": {
          "model_module": "@jupyter-widgets/base",
          "model_name": "LayoutModel",
          "state": {
            "_view_name": "LayoutView",
            "grid_template_rows": null,
            "right": null,
            "justify_content": null,
            "_view_module": "@jupyter-widgets/base",
            "overflow": null,
            "_model_module_version": "1.2.0",
            "_view_count": null,
            "flex_flow": null,
            "width": null,
            "min_width": null,
            "border": null,
            "align_items": null,
            "bottom": null,
            "_model_module": "@jupyter-widgets/base",
            "top": null,
            "grid_column": null,
            "overflow_y": null,
            "overflow_x": null,
            "grid_auto_flow": null,
            "grid_area": null,
            "grid_template_columns": null,
            "flex": null,
            "_model_name": "LayoutModel",
            "justify_items": null,
            "grid_row": null,
            "max_height": null,
            "align_content": null,
            "visibility": null,
            "align_self": null,
            "height": null,
            "min_height": null,
            "padding": null,
            "grid_auto_rows": null,
            "grid_gap": null,
            "max_width": null,
            "order": null,
            "_view_module_version": "1.2.0",
            "grid_template_areas": null,
            "object_position": null,
            "object_fit": null,
            "grid_auto_columns": null,
            "margin": null,
            "display": null,
            "left": null
          }
        },
        "c1c90cee148c4165a278d8ae4afe4993": {
          "model_module": "@jupyter-widgets/controls",
          "model_name": "FloatProgressModel",
          "state": {
            "_view_name": "ProgressView",
            "style": "IPY_MODEL_52109b19d4584b10b245ae40991938cd",
            "_dom_classes": [],
            "description": "100%",
            "_model_name": "FloatProgressModel",
            "bar_style": "success",
            "max": 50000,
            "_view_module": "@jupyter-widgets/controls",
            "_model_module_version": "1.5.0",
            "value": 50000,
            "_view_count": null,
            "_view_module_version": "1.5.0",
            "orientation": "horizontal",
            "min": 0,
            "description_tooltip": null,
            "_model_module": "@jupyter-widgets/controls",
            "layout": "IPY_MODEL_c35f7d5d4c754470a712f4e882171b7b"
          }
        },
        "f12ec219469d4e049ebc2b5a9fa66f2c": {
          "model_module": "@jupyter-widgets/controls",
          "model_name": "HTMLModel",
          "state": {
            "_view_name": "HTMLView",
            "style": "IPY_MODEL_05b353224a8b4273a271000e465062c0",
            "_dom_classes": [],
            "description": "",
            "_model_name": "HTMLModel",
            "placeholder": "​",
            "_view_module": "@jupyter-widgets/controls",
            "_model_module_version": "1.5.0",
            "value": " 50000/50000 [00:31&lt;00:00, 1608.89it/s]",
            "_view_count": null,
            "_view_module_version": "1.5.0",
            "description_tooltip": null,
            "_model_module": "@jupyter-widgets/controls",
            "layout": "IPY_MODEL_436262dd36514b8a92dadcef46a5dcbe"
          }
        },
        "52109b19d4584b10b245ae40991938cd": {
          "model_module": "@jupyter-widgets/controls",
          "model_name": "ProgressStyleModel",
          "state": {
            "_view_name": "StyleView",
            "_model_name": "ProgressStyleModel",
            "description_width": "initial",
            "_view_module": "@jupyter-widgets/base",
            "_model_module_version": "1.5.0",
            "_view_count": null,
            "_view_module_version": "1.2.0",
            "bar_color": null,
            "_model_module": "@jupyter-widgets/controls"
          }
        },
        "c35f7d5d4c754470a712f4e882171b7b": {
          "model_module": "@jupyter-widgets/base",
          "model_name": "LayoutModel",
          "state": {
            "_view_name": "LayoutView",
            "grid_template_rows": null,
            "right": null,
            "justify_content": null,
            "_view_module": "@jupyter-widgets/base",
            "overflow": null,
            "_model_module_version": "1.2.0",
            "_view_count": null,
            "flex_flow": null,
            "width": null,
            "min_width": null,
            "border": null,
            "align_items": null,
            "bottom": null,
            "_model_module": "@jupyter-widgets/base",
            "top": null,
            "grid_column": null,
            "overflow_y": null,
            "overflow_x": null,
            "grid_auto_flow": null,
            "grid_area": null,
            "grid_template_columns": null,
            "flex": null,
            "_model_name": "LayoutModel",
            "justify_items": null,
            "grid_row": null,
            "max_height": null,
            "align_content": null,
            "visibility": null,
            "align_self": null,
            "height": null,
            "min_height": null,
            "padding": null,
            "grid_auto_rows": null,
            "grid_gap": null,
            "max_width": null,
            "order": null,
            "_view_module_version": "1.2.0",
            "grid_template_areas": null,
            "object_position": null,
            "object_fit": null,
            "grid_auto_columns": null,
            "margin": null,
            "display": null,
            "left": null
          }
        },
        "05b353224a8b4273a271000e465062c0": {
          "model_module": "@jupyter-widgets/controls",
          "model_name": "DescriptionStyleModel",
          "state": {
            "_view_name": "StyleView",
            "_model_name": "DescriptionStyleModel",
            "description_width": "",
            "_view_module": "@jupyter-widgets/base",
            "_model_module_version": "1.5.0",
            "_view_count": null,
            "_view_module_version": "1.2.0",
            "_model_module": "@jupyter-widgets/controls"
          }
        },
        "436262dd36514b8a92dadcef46a5dcbe": {
          "model_module": "@jupyter-widgets/base",
          "model_name": "LayoutModel",
          "state": {
            "_view_name": "LayoutView",
            "grid_template_rows": null,
            "right": null,
            "justify_content": null,
            "_view_module": "@jupyter-widgets/base",
            "overflow": null,
            "_model_module_version": "1.2.0",
            "_view_count": null,
            "flex_flow": null,
            "width": null,
            "min_width": null,
            "border": null,
            "align_items": null,
            "bottom": null,
            "_model_module": "@jupyter-widgets/base",
            "top": null,
            "grid_column": null,
            "overflow_y": null,
            "overflow_x": null,
            "grid_auto_flow": null,
            "grid_area": null,
            "grid_template_columns": null,
            "flex": null,
            "_model_name": "LayoutModel",
            "justify_items": null,
            "grid_row": null,
            "max_height": null,
            "align_content": null,
            "visibility": null,
            "align_self": null,
            "height": null,
            "min_height": null,
            "padding": null,
            "grid_auto_rows": null,
            "grid_gap": null,
            "max_width": null,
            "order": null,
            "_view_module_version": "1.2.0",
            "grid_template_areas": null,
            "object_position": null,
            "object_fit": null,
            "grid_auto_columns": null,
            "margin": null,
            "display": null,
            "left": null
          }
        },
        "d71977aa37c945f9a7931cd7e3a69148": {
          "model_module": "@jupyter-widgets/controls",
          "model_name": "HBoxModel",
          "state": {
            "_view_name": "HBoxView",
            "_dom_classes": [],
            "_model_name": "HBoxModel",
            "_view_module": "@jupyter-widgets/controls",
            "_model_module_version": "1.5.0",
            "_view_count": null,
            "_view_module_version": "1.5.0",
            "box_style": "",
            "layout": "IPY_MODEL_a1af1fd33c574f29a1a53b77696cd224",
            "_model_module": "@jupyter-widgets/controls",
            "children": [
              "IPY_MODEL_003a2a1aa3ad4ed8929b0640457dc63c",
              "IPY_MODEL_6e45f8f122a14b3a8ce619307baa203c"
            ]
          }
        },
        "a1af1fd33c574f29a1a53b77696cd224": {
          "model_module": "@jupyter-widgets/base",
          "model_name": "LayoutModel",
          "state": {
            "_view_name": "LayoutView",
            "grid_template_rows": null,
            "right": null,
            "justify_content": null,
            "_view_module": "@jupyter-widgets/base",
            "overflow": null,
            "_model_module_version": "1.2.0",
            "_view_count": null,
            "flex_flow": null,
            "width": null,
            "min_width": null,
            "border": null,
            "align_items": null,
            "bottom": null,
            "_model_module": "@jupyter-widgets/base",
            "top": null,
            "grid_column": null,
            "overflow_y": null,
            "overflow_x": null,
            "grid_auto_flow": null,
            "grid_area": null,
            "grid_template_columns": null,
            "flex": null,
            "_model_name": "LayoutModel",
            "justify_items": null,
            "grid_row": null,
            "max_height": null,
            "align_content": null,
            "visibility": null,
            "align_self": null,
            "height": null,
            "min_height": null,
            "padding": null,
            "grid_auto_rows": null,
            "grid_gap": null,
            "max_width": null,
            "order": null,
            "_view_module_version": "1.2.0",
            "grid_template_areas": null,
            "object_position": null,
            "object_fit": null,
            "grid_auto_columns": null,
            "margin": null,
            "display": null,
            "left": null
          }
        },
        "003a2a1aa3ad4ed8929b0640457dc63c": {
          "model_module": "@jupyter-widgets/controls",
          "model_name": "FloatProgressModel",
          "state": {
            "_view_name": "ProgressView",
            "style": "IPY_MODEL_b90e5320ee69477bbcffd5ffdbaee4c6",
            "_dom_classes": [],
            "description": "100%",
            "_model_name": "FloatProgressModel",
            "bar_style": "success",
            "max": 50000,
            "_view_module": "@jupyter-widgets/controls",
            "_model_module_version": "1.5.0",
            "value": 50000,
            "_view_count": null,
            "_view_module_version": "1.5.0",
            "orientation": "horizontal",
            "min": 0,
            "description_tooltip": null,
            "_model_module": "@jupyter-widgets/controls",
            "layout": "IPY_MODEL_fab6a7f1616d4e3991a52ba7b6e5a578"
          }
        },
        "6e45f8f122a14b3a8ce619307baa203c": {
          "model_module": "@jupyter-widgets/controls",
          "model_name": "HTMLModel",
          "state": {
            "_view_name": "HTMLView",
            "style": "IPY_MODEL_f62044dd6ca34f59960745f4b5e481a7",
            "_dom_classes": [],
            "description": "",
            "_model_name": "HTMLModel",
            "placeholder": "​",
            "_view_module": "@jupyter-widgets/controls",
            "_model_module_version": "1.5.0",
            "value": " 50000/50000 [00:01&lt;00:00, 38629.56it/s]",
            "_view_count": null,
            "_view_module_version": "1.5.0",
            "description_tooltip": null,
            "_model_module": "@jupyter-widgets/controls",
            "layout": "IPY_MODEL_59cf2e525161465fa493afe7a6f5b923"
          }
        },
        "b90e5320ee69477bbcffd5ffdbaee4c6": {
          "model_module": "@jupyter-widgets/controls",
          "model_name": "ProgressStyleModel",
          "state": {
            "_view_name": "StyleView",
            "_model_name": "ProgressStyleModel",
            "description_width": "initial",
            "_view_module": "@jupyter-widgets/base",
            "_model_module_version": "1.5.0",
            "_view_count": null,
            "_view_module_version": "1.2.0",
            "bar_color": null,
            "_model_module": "@jupyter-widgets/controls"
          }
        },
        "fab6a7f1616d4e3991a52ba7b6e5a578": {
          "model_module": "@jupyter-widgets/base",
          "model_name": "LayoutModel",
          "state": {
            "_view_name": "LayoutView",
            "grid_template_rows": null,
            "right": null,
            "justify_content": null,
            "_view_module": "@jupyter-widgets/base",
            "overflow": null,
            "_model_module_version": "1.2.0",
            "_view_count": null,
            "flex_flow": null,
            "width": null,
            "min_width": null,
            "border": null,
            "align_items": null,
            "bottom": null,
            "_model_module": "@jupyter-widgets/base",
            "top": null,
            "grid_column": null,
            "overflow_y": null,
            "overflow_x": null,
            "grid_auto_flow": null,
            "grid_area": null,
            "grid_template_columns": null,
            "flex": null,
            "_model_name": "LayoutModel",
            "justify_items": null,
            "grid_row": null,
            "max_height": null,
            "align_content": null,
            "visibility": null,
            "align_self": null,
            "height": null,
            "min_height": null,
            "padding": null,
            "grid_auto_rows": null,
            "grid_gap": null,
            "max_width": null,
            "order": null,
            "_view_module_version": "1.2.0",
            "grid_template_areas": null,
            "object_position": null,
            "object_fit": null,
            "grid_auto_columns": null,
            "margin": null,
            "display": null,
            "left": null
          }
        },
        "f62044dd6ca34f59960745f4b5e481a7": {
          "model_module": "@jupyter-widgets/controls",
          "model_name": "DescriptionStyleModel",
          "state": {
            "_view_name": "StyleView",
            "_model_name": "DescriptionStyleModel",
            "description_width": "",
            "_view_module": "@jupyter-widgets/base",
            "_model_module_version": "1.5.0",
            "_view_count": null,
            "_view_module_version": "1.2.0",
            "_model_module": "@jupyter-widgets/controls"
          }
        },
        "59cf2e525161465fa493afe7a6f5b923": {
          "model_module": "@jupyter-widgets/base",
          "model_name": "LayoutModel",
          "state": {
            "_view_name": "LayoutView",
            "grid_template_rows": null,
            "right": null,
            "justify_content": null,
            "_view_module": "@jupyter-widgets/base",
            "overflow": null,
            "_model_module_version": "1.2.0",
            "_view_count": null,
            "flex_flow": null,
            "width": null,
            "min_width": null,
            "border": null,
            "align_items": null,
            "bottom": null,
            "_model_module": "@jupyter-widgets/base",
            "top": null,
            "grid_column": null,
            "overflow_y": null,
            "overflow_x": null,
            "grid_auto_flow": null,
            "grid_area": null,
            "grid_template_columns": null,
            "flex": null,
            "_model_name": "LayoutModel",
            "justify_items": null,
            "grid_row": null,
            "max_height": null,
            "align_content": null,
            "visibility": null,
            "align_self": null,
            "height": null,
            "min_height": null,
            "padding": null,
            "grid_auto_rows": null,
            "grid_gap": null,
            "max_width": null,
            "order": null,
            "_view_module_version": "1.2.0",
            "grid_template_areas": null,
            "object_position": null,
            "object_fit": null,
            "grid_auto_columns": null,
            "margin": null,
            "display": null,
            "left": null
          }
        }
      }
    },
    "accelerator": "GPU"
  },
  "cells": [
    {
      "cell_type": "markdown",
      "metadata": {
        "id": "view-in-github",
        "colab_type": "text"
      },
      "source": [
        "<a href=\"https://colab.research.google.com/github/patrick-nanys/text-summarization/blob/main/bert_text_summarizer.ipynb\" target=\"_parent\"><img src=\"https://colab.research.google.com/assets/colab-badge.svg\" alt=\"Open In Colab\"/></a>"
      ]
    },
    {
      "cell_type": "markdown",
      "metadata": {
        "id": "8CLvBco2J-xK"
      },
      "source": [
        "## Deep learning homework - Milestone 2\n",
        "#####Topic: NLP - text summarization\n",
        "#####Authors: Patrick Nanys, Mate Jakab (Goal Diggers)"
      ]
    },
    {
      "cell_type": "code",
      "metadata": {
        "colab": {
          "base_uri": "https://localhost:8080/"
        },
        "id": "_UuFF0cEMktj",
        "outputId": "9c43bef6-1b7f-4108-d25c-159898829839"
      },
      "source": [
        "from google.colab import drive\n",
        "drive.mount('/content/drive')"
      ],
      "execution_count": null,
      "outputs": [
        {
          "output_type": "stream",
          "text": [
            "Mounted at /content/drive\n"
          ],
          "name": "stdout"
        }
      ]
    },
    {
      "cell_type": "code",
      "metadata": {
        "id": "7LBh9Octlhfs"
      },
      "source": [
        "!cp drive/MyDrive/Colab\\ Notebooks/Deep\\ learning/reviews.xlsx reviews.xlsx"
      ],
      "execution_count": null,
      "outputs": []
    },
    {
      "cell_type": "markdown",
      "metadata": {
        "id": "pGZDgfz_a6HG"
      },
      "source": [
        "###1. Data load from xlsx \n",
        "\n",
        "> Source: https://www.kaggle.com/shashichander009/inshorts-news-data\n",
        "> Source2.0: https://www.kaggle.com/snap/amazon-fine-food-reviews\n",
        "\n"
      ]
    },
    {
      "cell_type": "code",
      "metadata": {
        "id": "FAEriAFohCba",
        "colab": {
          "base_uri": "https://localhost:8080/"
        },
        "outputId": "5259c472-3843-4f92-c7d5-86fb52f21f9e"
      },
      "source": [
        "import pandas as pd\n",
        "\n",
        "#xls = pd.read_excel(\"Inshorts Cleaned Data.xlsx\")\n",
        "xls = pd.read_excel(\"reviews.xlsx\")\n",
        "xls['headline_type'] = xls['Headline'].apply(type)\n",
        "xls.drop(xls[xls.headline_type != str].index, inplace=True)\n",
        "# Load articles, stories\n",
        "input_raw = xls['Short']\n",
        "# Load headlines for articles and stories\n",
        "output_raw = xls['Headline']\n",
        "\n",
        "# Show example\n",
        "print(input_raw.head(), output_raw.head())"
      ],
      "execution_count": null,
      "outputs": [
        {
          "output_type": "stream",
          "text": [
            "0    I have bought several of the Vitality canned d...\n",
            "1    Product arrived labeled as Jumbo Salted Peanut...\n",
            "2    This is a confection that has been around a fe...\n",
            "3    If you are looking for the secret ingredient i...\n",
            "4    Great taffy at a great price.  There was a wid...\n",
            "Name: Short, dtype: object 0    Good Quality Dog Food\n",
            "1        Not as Advertised\n",
            "2    \"Delight\" says it all\n",
            "3           Cough Medicine\n",
            "4              Great taffy\n",
            "Name: Headline, dtype: object\n"
          ],
          "name": "stdout"
        }
      ]
    },
    {
      "cell_type": "code",
      "metadata": {
        "colab": {
          "base_uri": "https://localhost:8080/",
          "height": 173
        },
        "id": "_WlCObs9bLdr",
        "outputId": "a36c545f-c8c7-44cb-8049-894d70801698"
      },
      "source": [
        "xls.describe()"
      ],
      "execution_count": null,
      "outputs": [
        {
          "output_type": "execute_result",
          "data": {
            "text/html": [
              "<div>\n",
              "<style scoped>\n",
              "    .dataframe tbody tr th:only-of-type {\n",
              "        vertical-align: middle;\n",
              "    }\n",
              "\n",
              "    .dataframe tbody tr th {\n",
              "        vertical-align: top;\n",
              "    }\n",
              "\n",
              "    .dataframe thead th {\n",
              "        text-align: right;\n",
              "    }\n",
              "</style>\n",
              "<table border=\"1\" class=\"dataframe\">\n",
              "  <thead>\n",
              "    <tr style=\"text-align: right;\">\n",
              "      <th></th>\n",
              "      <th>Headline</th>\n",
              "      <th>Short</th>\n",
              "      <th>headline_type</th>\n",
              "    </tr>\n",
              "  </thead>\n",
              "  <tbody>\n",
              "    <tr>\n",
              "      <th>count</th>\n",
              "      <td>568427</td>\n",
              "      <td>568427</td>\n",
              "      <td>568427</td>\n",
              "    </tr>\n",
              "    <tr>\n",
              "      <th>unique</th>\n",
              "      <td>295742</td>\n",
              "      <td>393576</td>\n",
              "      <td>1</td>\n",
              "    </tr>\n",
              "    <tr>\n",
              "      <th>top</th>\n",
              "      <td>Delicious!</td>\n",
              "      <td>This review will make me sound really stupid, ...</td>\n",
              "      <td>&lt;class 'str'&gt;</td>\n",
              "    </tr>\n",
              "    <tr>\n",
              "      <th>freq</th>\n",
              "      <td>2462</td>\n",
              "      <td>199</td>\n",
              "      <td>568427</td>\n",
              "    </tr>\n",
              "  </tbody>\n",
              "</table>\n",
              "</div>"
            ],
            "text/plain": [
              "          Headline  ...  headline_type\n",
              "count       568427  ...         568427\n",
              "unique      295742  ...              1\n",
              "top     Delicious!  ...  <class 'str'>\n",
              "freq          2462  ...         568427\n",
              "\n",
              "[4 rows x 3 columns]"
            ]
          },
          "metadata": {
            "tags": []
          },
          "execution_count": 46
        }
      ]
    },
    {
      "cell_type": "markdown",
      "metadata": {
        "id": "yvwB6yxDOIB7"
      },
      "source": [
        "Obtaining length data"
      ]
    },
    {
      "cell_type": "code",
      "metadata": {
        "id": "ZVFDLC_pg0FQ",
        "colab": {
          "base_uri": "https://localhost:8080/"
        },
        "outputId": "60047b32-9fee-4b27-b073-898cade41ed7"
      },
      "source": [
        "input_lengths = pd.Series([len(x) for x in input_raw])\n",
        "output_lengths = pd.Series([len(str(x)) for x in output_raw])\n",
        "print('Inputs:\\n', input_lengths.describe())\n",
        "print('Outputs:\\n', output_lengths.describe())"
      ],
      "execution_count": null,
      "outputs": [
        {
          "output_type": "stream",
          "text": [
            "Inputs:\n",
            " count    568427.000000\n",
            "mean        436.239369\n",
            "std         445.354882\n",
            "min          12.000000\n",
            "25%         179.000000\n",
            "50%         302.000000\n",
            "75%         527.000000\n",
            "max       21409.000000\n",
            "dtype: float64\n",
            "Outputs:\n",
            " count    568427.000000\n",
            "mean         23.446990\n",
            "std          14.028431\n",
            "min           1.000000\n",
            "25%          13.000000\n",
            "50%          20.000000\n",
            "75%          30.000000\n",
            "max         128.000000\n",
            "dtype: float64\n"
          ],
          "name": "stdout"
        }
      ]
    },
    {
      "cell_type": "code",
      "metadata": {
        "id": "fvKS-MbphCPK"
      },
      "source": [
        "# maxlen\n",
        "# taking values > and round figured to 75th percentile\n",
        "# at the same time not leaving high variance\n",
        "encoder_maxlen = 510 + 2\n",
        "decoder_maxlen = 30 + 2"
      ],
      "execution_count": null,
      "outputs": []
    },
    {
      "cell_type": "code",
      "metadata": {
        "id": "xL15_ImQtNup"
      },
      "source": [
        "def dataset_split(X, Y, valid_split, test_split):\n",
        "  v_start = int(len(X)*(1-valid_split-test_split))\n",
        "  t_start = int(len(X)*(1-test_split))\n",
        "  X_train, Y_train = X[:v_start], Y[:v_start]\n",
        "  X_valid, Y_valid = X[v_start:t_start], Y[v_start:t_start]\n",
        "  X_test , Y_test  = X[t_start:], Y[t_start:]\n",
        "  return X_train, Y_train, X_valid, Y_valid, X_test, Y_test"
      ],
      "execution_count": null,
      "outputs": []
    },
    {
      "cell_type": "markdown",
      "metadata": {
        "id": "DYV8LFbQFct4"
      },
      "source": [
        "### Bert tokenization"
      ]
    },
    {
      "cell_type": "code",
      "metadata": {
        "id": "-gH7g-ICoD2N"
      },
      "source": [
        "!rm -r uncased_L-12_H-768_A-12"
      ],
      "execution_count": null,
      "outputs": []
    },
    {
      "cell_type": "code",
      "metadata": {
        "colab": {
          "base_uri": "https://localhost:8080/"
        },
        "id": "0Yh2oOXOFg8f",
        "outputId": "8d93e691-be04-45f2-bd60-93c26a21ca72"
      },
      "source": [
        "# bert setup\n",
        "\n",
        "!pip install bert-for-tf2\n",
        "!wget https://storage.googleapis.com/bert_models/2018_10_18/uncased_L-12_H-768_A-12.zip\n",
        "!unzip uncased_L-12_H-768_A-12.zip\n",
        "\n",
        "import os\n",
        "import bert\n",
        "import tensorflow as tf\n",
        "from bert import BertModelLayer\n",
        "from bert.loader import StockBertConfig, map_stock_config_to_params, load_stock_weights\n",
        "from bert.tokenization.bert_tokenization import FullTokenizer\n",
        "\n",
        "bert_model_name=\"uncased_L-12_H-768_A-12\"\n",
        "bert_ckpt_file = os.path.join(bert_model_name, \"bert_model.ckpt\")\n",
        "bert_config_file = os.path.join(bert_model_name, \"bert_config.json\")\n",
        "\n",
        "def create_bert_layer():\n",
        "  with tf.io.gfile.GFile(bert_config_file, \"r\") as reader:\n",
        "    bc = StockBertConfig.from_json_string(reader.read())\n",
        "    bert_params = map_stock_config_to_params(bc)\n",
        "    bert_params.adapter_size = None\n",
        "    bert = BertModelLayer.from_params(bert_params, name=\"bert\")\n",
        "  return bert\n",
        "\n",
        "# call this after build\n",
        "#load_stock_weights(bert, bert_ckpt_file)\n",
        "\n",
        "tokenizer = FullTokenizer(vocab_file=os.path.join(bert_model_name, \"vocab.txt\"))"
      ],
      "execution_count": null,
      "outputs": [
        {
          "output_type": "stream",
          "text": [
            "Requirement already satisfied: bert-for-tf2 in /usr/local/lib/python3.6/dist-packages (0.14.7)\n",
            "Requirement already satisfied: params-flow>=0.8.0 in /usr/local/lib/python3.6/dist-packages (from bert-for-tf2) (0.8.2)\n",
            "Requirement already satisfied: py-params>=0.9.6 in /usr/local/lib/python3.6/dist-packages (from bert-for-tf2) (0.9.7)\n",
            "Requirement already satisfied: numpy in /usr/local/lib/python3.6/dist-packages (from params-flow>=0.8.0->bert-for-tf2) (1.18.5)\n",
            "Requirement already satisfied: tqdm in /usr/local/lib/python3.6/dist-packages (from params-flow>=0.8.0->bert-for-tf2) (4.41.1)\n",
            "--2020-11-26 12:32:09--  https://storage.googleapis.com/bert_models/2018_10_18/uncased_L-12_H-768_A-12.zip\n",
            "Resolving storage.googleapis.com (storage.googleapis.com)... 74.125.20.128, 74.125.142.128, 74.125.195.128, ...\n",
            "Connecting to storage.googleapis.com (storage.googleapis.com)|74.125.20.128|:443... connected.\n",
            "HTTP request sent, awaiting response... 200 OK\n",
            "Length: 407727028 (389M) [application/zip]\n",
            "Saving to: ‘uncased_L-12_H-768_A-12.zip’\n",
            "\n",
            "uncased_L-12_H-768_ 100%[===================>] 388.84M   262MB/s    in 1.5s    \n",
            "\n",
            "2020-11-26 12:32:11 (262 MB/s) - ‘uncased_L-12_H-768_A-12.zip’ saved [407727028/407727028]\n",
            "\n",
            "Archive:  uncased_L-12_H-768_A-12.zip\n",
            "   creating: uncased_L-12_H-768_A-12/\n",
            "  inflating: uncased_L-12_H-768_A-12/bert_model.ckpt.meta  \n",
            "  inflating: uncased_L-12_H-768_A-12/bert_model.ckpt.data-00000-of-00001  \n",
            "  inflating: uncased_L-12_H-768_A-12/vocab.txt  \n",
            "  inflating: uncased_L-12_H-768_A-12/bert_model.ckpt.index  \n",
            "  inflating: uncased_L-12_H-768_A-12/bert_config.json  \n"
          ],
          "name": "stdout"
        }
      ]
    },
    {
      "cell_type": "code",
      "metadata": {
        "id": "U_IQbjOeDbcz"
      },
      "source": [
        "import numpy as np\n",
        "from tqdm.notebook import tqdm\n",
        "\n",
        "def bert_tokenize(data):\n",
        "  tokenized_data = []\n",
        "  for text in tqdm(data):\n",
        "    tokens = tokenizer.tokenize(text)\n",
        "    tokens = [\"[CLS]\"] + tokens + [\"[SEP]\"]\n",
        "    token_ids = tokenizer.convert_tokens_to_ids(tokens)\n",
        "    tokenized_data.append(token_ids)\n",
        "  return tokenized_data\n",
        "\n",
        "def bert_pad(data, maxlen):\n",
        "  padded_data = []\n",
        "  for token_ids in tqdm(data):\n",
        "    token_ids = token_ids[:min(len(token_ids), maxlen - 2)]\n",
        "    token_ids = token_ids + [0] * (maxlen - len(token_ids))\n",
        "    padded_data.append(np.array(token_ids))\n",
        "  return np.array(padded_data)\n",
        "\n",
        "def bert_preprocess(data, maxlen):\n",
        "  print('tokenizing...')\n",
        "  x = bert_tokenize(data)\n",
        "  print('padding...')\n",
        "  x = bert_pad(x, maxlen)\n",
        "  return x"
      ],
      "execution_count": null,
      "outputs": []
    },
    {
      "cell_type": "code",
      "metadata": {
        "colab": {
          "base_uri": "https://localhost:8080/",
          "height": 315,
          "referenced_widgets": [
            "51c2bb2bb2364e5887094ebe6da2cadb",
            "718cbd32ab964b7280503b7a3f05b01e",
            "078a09e9c9a8495bbcd008c2c91cf33e",
            "c61ce0f5715542a68011c3b048f7fd93",
            "78b46ce5dac74bd8a91c99e200b853e7",
            "c3d3d8ef26eb436a88fb10b87fc8fd5c",
            "a27eda090306487b97ae51dc3157cddf",
            "f7eb589db4514c4e93e49ec174897619",
            "2b1ec8f77cd64989b4b009111ffa5554",
            "f6894cc94551463e969b9404f3c1c313",
            "464e34752e6048a0970081d687e49e96",
            "61a6791dd6ce4d26bf7d13e395d441da",
            "feb8dee5f5464068a8f5c8fe36879580",
            "6012e802455a48ecb79be562f215461a",
            "b8bb7cf43aeb4e7b9c85dbe3fc5ef157",
            "412a54aaae924565b9eac11d81ac1b89",
            "77d546d98b784fed9c73460fc9a01ea5",
            "13130b217e554cb587784d0a770dbcf1",
            "c1c90cee148c4165a278d8ae4afe4993",
            "f12ec219469d4e049ebc2b5a9fa66f2c",
            "52109b19d4584b10b245ae40991938cd",
            "c35f7d5d4c754470a712f4e882171b7b",
            "05b353224a8b4273a271000e465062c0",
            "436262dd36514b8a92dadcef46a5dcbe",
            "d71977aa37c945f9a7931cd7e3a69148",
            "a1af1fd33c574f29a1a53b77696cd224",
            "003a2a1aa3ad4ed8929b0640457dc63c",
            "6e45f8f122a14b3a8ce619307baa203c",
            "b90e5320ee69477bbcffd5ffdbaee4c6",
            "fab6a7f1616d4e3991a52ba7b6e5a578",
            "f62044dd6ca34f59960745f4b5e481a7",
            "59cf2e525161465fa493afe7a6f5b923"
          ]
        },
        "id": "yM-xrwkILuNl",
        "outputId": "220afb94-45d1-4da1-ecfc-0ff7f2162ca5"
      },
      "source": [
        "print('Preprocessing input')\n",
        "X = bert_preprocess(input_raw[:50000], encoder_maxlen)\n",
        "print('Preprocessing output')\n",
        "Y = bert_preprocess(output_raw[:50000], decoder_maxlen)\n",
        "X_train, Y_train, X_valid, Y_valid, X_test, Y_test = dataset_split(X, Y, valid_split=0.2, test_split=0.1)"
      ],
      "execution_count": null,
      "outputs": [
        {
          "output_type": "stream",
          "text": [
            "Preprocessing input\n",
            "tokenizing...\n"
          ],
          "name": "stdout"
        },
        {
          "output_type": "display_data",
          "data": {
            "application/vnd.jupyter.widget-view+json": {
              "model_id": "51c2bb2bb2364e5887094ebe6da2cadb",
              "version_minor": 0,
              "version_major": 2
            },
            "text/plain": [
              "HBox(children=(FloatProgress(value=0.0, max=50000.0), HTML(value='')))"
            ]
          },
          "metadata": {
            "tags": []
          }
        },
        {
          "output_type": "stream",
          "text": [
            "\n",
            "padding...\n"
          ],
          "name": "stdout"
        },
        {
          "output_type": "display_data",
          "data": {
            "application/vnd.jupyter.widget-view+json": {
              "model_id": "2b1ec8f77cd64989b4b009111ffa5554",
              "version_minor": 0,
              "version_major": 2
            },
            "text/plain": [
              "HBox(children=(FloatProgress(value=0.0, max=50000.0), HTML(value='')))"
            ]
          },
          "metadata": {
            "tags": []
          }
        },
        {
          "output_type": "stream",
          "text": [
            "\n",
            "Preprocessing output\n",
            "tokenizing...\n"
          ],
          "name": "stdout"
        },
        {
          "output_type": "display_data",
          "data": {
            "application/vnd.jupyter.widget-view+json": {
              "model_id": "77d546d98b784fed9c73460fc9a01ea5",
              "version_minor": 0,
              "version_major": 2
            },
            "text/plain": [
              "HBox(children=(FloatProgress(value=0.0, max=50000.0), HTML(value='')))"
            ]
          },
          "metadata": {
            "tags": []
          }
        },
        {
          "output_type": "stream",
          "text": [
            "\n",
            "padding...\n"
          ],
          "name": "stdout"
        },
        {
          "output_type": "display_data",
          "data": {
            "application/vnd.jupyter.widget-view+json": {
              "model_id": "d71977aa37c945f9a7931cd7e3a69148",
              "version_minor": 0,
              "version_major": 2
            },
            "text/plain": [
              "HBox(children=(FloatProgress(value=0.0, max=50000.0), HTML(value='')))"
            ]
          },
          "metadata": {
            "tags": []
          }
        },
        {
          "output_type": "stream",
          "text": [
            "\n"
          ],
          "name": "stdout"
        }
      ]
    },
    {
      "cell_type": "code",
      "metadata": {
        "id": "aK66hJ7wR_U6"
      },
      "source": [
        "# save preprocessed reviews\n",
        "import pickle\n",
        "\n",
        "with open('preprocessed_reviews.pkl', 'wb') as file:\n",
        "  data = (X, Y)\n",
        "  pickle.dump(data, file)\n",
        "\n",
        "!cp preprocessed_reviews.pkl drive/MyDrive/Colab\\ Notebooks/Deep\\ learning/preprocessed_reviews.pkl"
      ],
      "execution_count": null,
      "outputs": []
    },
    {
      "cell_type": "code",
      "metadata": {
        "id": "pN8lCKGcStEN"
      },
      "source": [
        "# load preprocessed reviews\n",
        "import pickle\n",
        "\n",
        "!cp drive/MyDrive/Colab\\ Notebooks/Deep\\ learning/preprocessed_reviews.pkl preprocessed_reviews.pkl\n",
        "\n",
        "with open('preprocessed_reviews.pkl', 'rb') as file:\n",
        "  data = pickle.load(file)\n",
        "\n",
        "nX, nY = data\n",
        "X_train, Y_train, X_valid, Y_valid, X_test, Y_test = dataset_split(nX, nY, valid_split=0.2, test_split=0.1)"
      ],
      "execution_count": null,
      "outputs": []
    },
    {
      "cell_type": "code",
      "metadata": {
        "colab": {
          "base_uri": "https://localhost:8080/"
        },
        "id": "9a7_42h4XafE",
        "outputId": "e4ae3f1f-6426-4926-c576-e709dc7701ef"
      },
      "source": [
        "X_train.shape, Y_train.shape, X_valid.shape, Y_valid.shape, X_test.shape, Y_test.shape"
      ],
      "execution_count": null,
      "outputs": [
        {
          "output_type": "execute_result",
          "data": {
            "text/plain": [
              "((35000, 512), (35000, 32), (10000, 512), (10000, 32), (5000, 512), (5000, 32))"
            ]
          },
          "metadata": {
            "tags": []
          },
          "execution_count": 57
        }
      ]
    },
    {
      "cell_type": "code",
      "metadata": {
        "id": "5AjkbDf1aHlB",
        "colab": {
          "base_uri": "https://localhost:8080/"
        },
        "outputId": "a682f95e-031e-42fc-bb80-fd20211cf515"
      },
      "source": [
        "X_train.shape[0] + X_valid.shape[0] + X_test.shape[0]"
      ],
      "execution_count": null,
      "outputs": [
        {
          "output_type": "execute_result",
          "data": {
            "text/plain": [
              "50000"
            ]
          },
          "metadata": {
            "tags": []
          },
          "execution_count": 58
        }
      ]
    },
    {
      "cell_type": "code",
      "metadata": {
        "colab": {
          "base_uri": "https://localhost:8080/"
        },
        "id": "eaBzIB3DwG2q",
        "outputId": "e25aa31b-d8e9-4977-ea19-ec452b8a5bab"
      },
      "source": [
        "x_vocab = len(tokenizer.vocab)\n",
        "y_vocab = len(tokenizer.vocab)\n",
        "x_vocab, y_vocab"
      ],
      "execution_count": null,
      "outputs": [
        {
          "output_type": "execute_result",
          "data": {
            "text/plain": [
              "(30522, 30522)"
            ]
          },
          "metadata": {
            "tags": []
          },
          "execution_count": 59
        }
      ]
    },
    {
      "cell_type": "code",
      "metadata": {
        "colab": {
          "base_uri": "https://localhost:8080/"
        },
        "id": "m3CZDeQA1HQD",
        "outputId": "a1996f02-f91c-4c80-fa06-7a88d5f25df1"
      },
      "source": [
        "X[:32].shape, Y[:32].shape"
      ],
      "execution_count": null,
      "outputs": [
        {
          "output_type": "execute_result",
          "data": {
            "text/plain": [
              "((32, 512), (32, 32))"
            ]
          },
          "metadata": {
            "tags": []
          },
          "execution_count": 60
        }
      ]
    },
    {
      "cell_type": "markdown",
      "metadata": {
        "id": "GspMEDS-qs57"
      },
      "source": [
        "# Training"
      ]
    },
    {
      "cell_type": "code",
      "metadata": {
        "id": "iiNQeGg3tbVN"
      },
      "source": [
        "from tensorflow.keras import Model\n",
        "from tensorflow.keras.layers import Input, LSTM, Embedding, Dense, Concatenate, Attention, Dropout, Conv1D, Flatten"
      ],
      "execution_count": null,
      "outputs": []
    },
    {
      "cell_type": "markdown",
      "metadata": {
        "id": "1RiyLPpasNOZ"
      },
      "source": [
        "### Architecture"
      ]
    },
    {
      "cell_type": "code",
      "metadata": {
        "id": "J5xxRw3crc-3"
      },
      "source": [
        "embedding_dim = 250 #50\n",
        "hidden_dim = 250 #60\n",
        "\n",
        "ENC_LSTM_NUM = 3 #3\n",
        "ENC_LSTM_DROPOUT = 0.4 #0.4\n",
        "ENC_LSTM_RECURRENT_DROPOUT = 0.4 #0.4\n",
        "\n",
        "CONV_FILTERS = 32\n",
        "CONV_KERNEL_SIZE = 3\n",
        "\n",
        "# Architecture\n",
        "\n",
        "bert_layer = create_bert_layer()\n",
        "bert_layer.trainable = False\n",
        "\n",
        "# Encoder\n",
        "enc_emb = bert_layer\n",
        "#enc_emb = Embedding(x_vocab, embedding_dim)\n",
        "enc_lstms = []\n",
        "for i in range(ENC_LSTM_NUM):\n",
        "  enc_lstms.append(LSTM(hidden_dim, return_sequences=True, return_state=True))\n",
        "dropout = Dropout(ENC_LSTM_DROPOUT)\n",
        "\n",
        "# Decoder\n",
        "#dec_emb = bert_layer\n",
        "dec_emb = Embedding(y_vocab, embedding_dim)\n",
        "dec_lstm = LSTM(hidden_dim, return_sequences=True, return_state=True)\n",
        "attn = Attention()\n",
        "concat = Concatenate()\n",
        "conv1d = Conv1D(CONV_FILTERS, CONV_KERNEL_SIZE, activation='relu')\n",
        "dec_fc = Dense(y_vocab, activation='softmax')"
      ],
      "execution_count": null,
      "outputs": []
    },
    {
      "cell_type": "markdown",
      "metadata": {
        "id": "eCRT-PAHsShB"
      },
      "source": [
        "### Building the model"
      ]
    },
    {
      "cell_type": "code",
      "metadata": {
        "id": "5cbN9TsFtxin",
        "colab": {
          "base_uri": "https://localhost:8080/"
        },
        "outputId": "407f38fb-316e-408d-b87c-0c4dfafe8b7c"
      },
      "source": [
        "# Building the model\n",
        "\n",
        "# Encoder\n",
        "encoder_input = Input(shape=(encoder_maxlen,))\n",
        "enc_emb_out = enc_emb(encoder_input)\n",
        "lstm_in = enc_emb_out\n",
        "for i in range(ENC_LSTM_NUM):\n",
        "  lstm_out, h, c = enc_lstms[i](lstm_in)\n",
        "  lstm_out = dropout(lstm_out)\n",
        "  lstm_in = lstm_out\n",
        "enc_output, enc_state_h, enc_state_c = enc_lstms[-1](lstm_in)\n",
        " \n",
        "# Decoder\n",
        "decoder_input = Input(shape=(None,))\n",
        "dec_emb_out = dec_emb(decoder_input)\n",
        "dec_output, dec_state_h, dec_state_c = dec_lstm(dec_emb_out, initial_state=[enc_state_h, enc_state_c])\n",
        "\n",
        "attn_out = attn([dec_output, enc_output])\n",
        "conv_out = concat([dec_output, attn_out])\n",
        "output = dec_fc(conv_out)\n",
        "\n",
        "model = Model([encoder_input, decoder_input], output)\n",
        "\n",
        "load_stock_weights(bert_layer, bert_ckpt_file)\n",
        "\n",
        "model.summary()"
      ],
      "execution_count": null,
      "outputs": [
        {
          "output_type": "stream",
          "text": [
            "Done loading 196 BERT weights from: uncased_L-12_H-768_A-12/bert_model.ckpt into <bert.model.BertModelLayer object at 0x7fd6760b34e0> (prefix:bert). Count of weights not found in the checkpoint was: [0]. Count of weights with mismatched shape: [0]\n",
            "Unused weights from checkpoint: \n",
            "\tbert/embeddings/token_type_embeddings\n",
            "\tbert/pooler/dense/bias\n",
            "\tbert/pooler/dense/kernel\n",
            "\tcls/predictions/output_bias\n",
            "\tcls/predictions/transform/LayerNorm/beta\n",
            "\tcls/predictions/transform/LayerNorm/gamma\n",
            "\tcls/predictions/transform/dense/bias\n",
            "\tcls/predictions/transform/dense/kernel\n",
            "\tcls/seq_relationship/output_bias\n",
            "\tcls/seq_relationship/output_weights\n",
            "Model: \"functional_5\"\n",
            "__________________________________________________________________________________________________\n",
            "Layer (type)                    Output Shape         Param #     Connected to                     \n",
            "==================================================================================================\n",
            "input_5 (InputLayer)            [(None, 512)]        0                                            \n",
            "__________________________________________________________________________________________________\n",
            "bert (BertModelLayer)           (None, 512, 768)     108890112   input_5[0][0]                    \n",
            "__________________________________________________________________________________________________\n",
            "lstm_12 (LSTM)                  [(None, 512, 250), ( 1019000     bert[0][0]                       \n",
            "__________________________________________________________________________________________________\n",
            "dropout_3 (Dropout)             (None, 512, 250)     0           lstm_12[0][0]                    \n",
            "                                                                 lstm_13[0][0]                    \n",
            "                                                                 lstm_14[0][0]                    \n",
            "__________________________________________________________________________________________________\n",
            "lstm_13 (LSTM)                  [(None, 512, 250), ( 501000      dropout_3[0][0]                  \n",
            "__________________________________________________________________________________________________\n",
            "lstm_14 (LSTM)                  [(None, 512, 250), ( 501000      dropout_3[1][0]                  \n",
            "                                                                 dropout_3[2][0]                  \n",
            "__________________________________________________________________________________________________\n",
            "input_6 (InputLayer)            [(None, None)]       0                                            \n",
            "__________________________________________________________________________________________________\n",
            "embedding_3 (Embedding)         (None, None, 250)    7630500     input_6[0][0]                    \n",
            "__________________________________________________________________________________________________\n",
            "lstm_15 (LSTM)                  [(None, None, 250),  501000      embedding_3[0][0]                \n",
            "                                                                 lstm_14[1][1]                    \n",
            "                                                                 lstm_14[1][2]                    \n",
            "__________________________________________________________________________________________________\n",
            "attention_3 (Attention)         (None, None, 250)    0           lstm_15[0][0]                    \n",
            "                                                                 lstm_14[1][0]                    \n",
            "__________________________________________________________________________________________________\n",
            "concatenate_3 (Concatenate)     (None, None, 500)    0           lstm_15[0][0]                    \n",
            "                                                                 attention_3[0][0]                \n",
            "__________________________________________________________________________________________________\n",
            "dense_3 (Dense)                 (None, None, 30522)  15291522    concatenate_3[0][0]              \n",
            "==================================================================================================\n",
            "Total params: 134,334,134\n",
            "Trainable params: 25,444,022\n",
            "Non-trainable params: 108,890,112\n",
            "__________________________________________________________________________________________________\n"
          ],
          "name": "stdout"
        }
      ]
    },
    {
      "cell_type": "markdown",
      "metadata": {
        "id": "JJVp_drem0hD"
      },
      "source": [
        "### Rouge loss function\n"
      ]
    },
    {
      "cell_type": "code",
      "metadata": {
        "id": "02i_9RJbm5Lk"
      },
      "source": [
        "import keras.backend as K\n",
        "\n",
        "def n_grams(n, text):\n",
        "  return [tuple(text[i:i+n]) for i in range(len(text)-n+1)]\n",
        "\n",
        "def rouge(y, y_pred):\n",
        "  total_words_in_reference = len(y)\n",
        "  recalls = []\n",
        "  for i in range(1, 4):\n",
        "    target_n_grams = set(np.vectorize(n_grams(i, y)))\n",
        "    pred_n_grams = set(np.vectorize(n_grams(i, y_pred)))\n",
        "    number_of_overlapping = target_n_grams.intersection(pred_n_grams)\n",
        "    recalls.append(number_of_overlapping / total_words_in_reference)\n",
        "  return K.mean(recalls)"
      ],
      "execution_count": null,
      "outputs": []
    },
    {
      "cell_type": "code",
      "metadata": {
        "id": "VhAQD6ctsE_C"
      },
      "source": [
        "model.compile(optimizer='rmsprop', loss='sparse_categorical_crossentropy')"
      ],
      "execution_count": null,
      "outputs": []
    },
    {
      "cell_type": "code",
      "metadata": {
        "id": "QMMLl1zvRL_l"
      },
      "source": [
        "!cp drive/MyDrive/Colab\\ Notebooks/Deep\\ learning/bert_model.hdf5 bert_model.hdf5\n",
        "model.load_weights('bert_model.hdf5')"
      ],
      "execution_count": null,
      "outputs": []
    },
    {
      "cell_type": "markdown",
      "metadata": {
        "id": "a44gkWMnsXlA"
      },
      "source": [
        "### Training"
      ]
    },
    {
      "cell_type": "code",
      "metadata": {
        "id": "7GdBagPjoCA6"
      },
      "source": [
        "def get_model_input(X, Y):\n",
        "  \"\"\"\n",
        "    List of X and Y where Ys last word is excluded\n",
        "  \"\"\"\n",
        "  return [X, Y[:,:-1]]\n",
        "\n",
        "def get_model_output(Y):\n",
        "  \"\"\"\n",
        "    Y input shifted right (first word excluded) and made it third dimensional\n",
        "  \"\"\"\n",
        "  return Y.reshape(Y.shape[0],Y.shape[1], 1)[:,1:]"
      ],
      "execution_count": null,
      "outputs": []
    },
    {
      "cell_type": "code",
      "metadata": {
        "id": "nlxBwsdmw4CT"
      },
      "source": [
        "from tensorflow.keras.callbacks import EarlyStopping\n",
        "from tensorflow.keras.callbacks import ModelCheckpoint\n",
        "\n",
        "PATIENCE = 3\n",
        "SAVED_MODEL_PATH = 'bert_model.hdf5'\n",
        "\n",
        "earlystopping = EarlyStopping(patience=PATIENCE, monitor='val_loss', mode='min', verbose=1)\n",
        "checkpointer = ModelCheckpoint(filepath=SAVED_MODEL_PATH, save_best_only=True, verbose=0)"
      ],
      "execution_count": null,
      "outputs": []
    },
    {
      "cell_type": "code",
      "metadata": {
        "id": "VBjqAZ8Ik0o2",
        "colab": {
          "base_uri": "https://localhost:8080/"
        },
        "outputId": "23ad1bcf-2067-4284-e582-e3d2483adac2"
      },
      "source": [
        "history = model.fit(\n",
        "    get_model_input(X_train, Y_train),\n",
        "    get_model_output(Y_train),\n",
        "    epochs=3, #20\n",
        "    batch_size=32, #32,\n",
        "    validation_data=(\n",
        "        get_model_input(X_valid, Y_valid),\n",
        "        get_model_output(Y_valid)\n",
        "        ),\n",
        "    callbacks=[checkpointer, earlystopping]\n",
        "    )"
      ],
      "execution_count": null,
      "outputs": [
        {
          "output_type": "stream",
          "text": [
            "Epoch 1/3\n",
            "1094/1094 [==============================] - 2465s 2s/step - loss: 0.8159 - val_loss: 0.9827\n",
            "Epoch 2/3\n",
            "1094/1094 [==============================] - 2460s 2s/step - loss: 0.8019 - val_loss: 0.9862\n",
            "Epoch 3/3\n",
            "1094/1094 [==============================] - 2460s 2s/step - loss: 0.7928 - val_loss: 0.9909\n"
          ],
          "name": "stdout"
        }
      ]
    },
    {
      "cell_type": "markdown",
      "metadata": {
        "id": "4DCvmN94Wgey"
      },
      "source": [
        "loss: 1.2703 - val_loss: 1.1933\n",
        "\n",
        "loss: 1.0352 - val_loss: 1.0634\n",
        "\n",
        "loss: 0.9740 - val_loss: 1.0341\n",
        "\n",
        "loss: 0.9354 - val_loss: 1.0127\n",
        "\n",
        "loss: 0.9093 - val_loss: 1.0061\n",
        "\n",
        "loss: 0.8868 - val_loss: 0.9943\n",
        "\n",
        "loss: 0.8670 - val_loss: 0.9894\n",
        "\n",
        "loss: 0.8480 - val_loss: 0.9853\n",
        "\n",
        "loss: 0.8321 - val_loss: 0.9849\n",
        "\n",
        "loss: 0.8159 - val_loss: 0.9827\n",
        "\n",
        "loss: 0.8019 - val_loss: 0.9862\n",
        "\n",
        "loss: 0.7928 - val_loss: 0.9909"
      ]
    },
    {
      "cell_type": "code",
      "metadata": {
        "id": "bGiH7V8kTVFv"
      },
      "source": [
        "model.load_weights(SAVED_MODEL_PATH)"
      ],
      "execution_count": null,
      "outputs": []
    },
    {
      "cell_type": "code",
      "metadata": {
        "id": "8VBvDqMglOSo"
      },
      "source": [
        "# save model\n",
        "!\\cp bert_model.hdf5 drive/MyDrive/Colab\\ Notebooks/Deep\\ learning/bert_model.hdf5"
      ],
      "execution_count": null,
      "outputs": []
    },
    {
      "cell_type": "code",
      "metadata": {
        "colab": {
          "base_uri": "https://localhost:8080/",
          "height": 282
        },
        "id": "R0iuV1w3jHy5",
        "outputId": "3bcba4c3-9958-44c6-f4af-fd44c562b951"
      },
      "source": [
        "import seaborn as sns\n",
        "\n",
        "sns.lineplot(data=history.history['loss'], label='train loss')\n",
        "sns.lineplot(data=history.history['val_loss'], label='val loss')"
      ],
      "execution_count": null,
      "outputs": [
        {
          "output_type": "execute_result",
          "data": {
            "text/plain": [
              "<matplotlib.axes._subplots.AxesSubplot at 0x7fd66f080be0>"
            ]
          },
          "metadata": {
            "tags": []
          },
          "execution_count": 72
        },
        {
          "output_type": "display_data",
          "data": {
            "image/png": "[encoded data removed]",
            "text/plain": [
              "<Figure size 432x288 with 1 Axes>"
            ]
          },
          "metadata": {
            "tags": [],
            "needs_background": "light"
          }
        }
      ]
    },
    {
      "cell_type": "markdown",
      "metadata": {
        "id": "h9jg-sYVqoS3"
      },
      "source": [
        "# Inference"
      ]
    },
    {
      "cell_type": "code",
      "metadata": {
        "id": "iRtsDYqIyH3Z"
      },
      "source": [
        "# Encode\n",
        "encoder_model = Model(encoder_input, [enc_output, enc_state_h, enc_state_c])\n",
        "\n",
        "# Inputs for decode\n",
        "dec_state_input_h = Input(shape=(hidden_dim,))\n",
        "dec_state_input_c = Input(shape=(hidden_dim,))\n",
        "dec_hidden_state_input = Input(shape=(encoder_maxlen, hidden_dim))\n",
        "\n",
        "# Decode\n",
        "dec_emb_out2 = dec_emb(decoder_input)\n",
        "dec_output2, dec_state_h2, dec_state_c2 = dec_lstm(dec_emb_out2, initial_state=[dec_state_input_h, dec_state_input_c])\n",
        "attn_out2 = attn([dec_output2, dec_hidden_state_input])\n",
        "concat_out2 = concat([dec_output2, attn_out2])\n",
        "output = dec_fc(concat_out2)\n",
        "\n",
        "decoder_model = Model([decoder_input] + [dec_hidden_state_input, dec_state_input_h, dec_state_input_c], [output] + [dec_state_h2, dec_state_c2])"
      ],
      "execution_count": null,
      "outputs": []
    },
    {
      "cell_type": "code",
      "metadata": {
        "id": "WcjYXDL75LvC"
      },
      "source": [
        "reverse_target_word_index=tokenizers[1].index_word\n",
        "reverse_source_word_index=tokenizers[0].index_word\n",
        "target_word_index=tokenizers[1].word_index"
      ],
      "execution_count": null,
      "outputs": []
    },
    {
      "cell_type": "code",
      "metadata": {
        "id": "LgtYRsN9T4rz"
      },
      "source": [
        "reverse_target_word_index=lambda x: tokenizer.convert_ids_to_tokens([x])[0]\n",
        "reverse_source_word_index=lambda x: tokenizer.convert_ids_to_tokens([x])[0]\n",
        "target_word_index=lambda x: tokenizer.convert_tokens_to_ids([x])[0]"
      ],
      "execution_count": null,
      "outputs": []
    },
    {
      "cell_type": "code",
      "metadata": {
        "id": "7CqtUoHy32RK"
      },
      "source": [
        "import numpy as np\n",
        "\n",
        "def decode_sequence(input_seq):\n",
        "  e_out, e_h, e_c = encoder_model.predict(input_seq)\n",
        "\n",
        "  target_seq = np.zeros((1, 1))\n",
        "  target_seq[0, 0] = target_word_index('[CLS]')\n",
        "\n",
        "  stop_condition = False\n",
        "  decoded_sentence = ''\n",
        "  while not stop_condition:\n",
        "\n",
        "    output_tokens, h, c = decoder_model.predict([target_seq] + [e_out, e_h, e_c])\n",
        "\n",
        "    # sample a token\n",
        "    sampled_token_index = np.argmax(output_tokens[0, -1, :])\n",
        "    try:\n",
        "      sampled_token = reverse_target_word_index(sampled_token_index)\n",
        "    except:\n",
        "      sampled_token = '[UNK]'\n",
        "\n",
        "    if(sampled_token!='[SEP]'):\n",
        "      decoded_sentence += ' '+sampled_token\n",
        "\n",
        "    # Exit condition: either hit max length or find stop word.\n",
        "    if (sampled_token == '[SEP]'  or len(decoded_sentence.split()) >= (decoder_maxlen - 1)):\n",
        "      stop_condition = True\n",
        "\n",
        "    # Update the target sequence (of length 1).\n",
        "    target_seq = np.zeros((1,1))\n",
        "    target_seq[0, 0] = sampled_token_index\n",
        "\n",
        "    # Update internal states\n",
        "    e_h, e_c = h, c\n",
        "\n",
        "  return decoded_sentence"
      ],
      "execution_count": null,
      "outputs": []
    },
    {
      "cell_type": "code",
      "metadata": {
        "id": "1WXzdaDm9R1R"
      },
      "source": [
        "def seq2summary(input_seq):\n",
        "    newString=''\n",
        "    for item in input_seq:\n",
        "        if(item != 0 and item != target_word_index('[CLS]') and item != target_word_index('[SEP]')):\n",
        "          try:\n",
        "            new_str = reverse_target_word_index(item)\n",
        "          except:\n",
        "            new_str = '[UNK]'\n",
        "          newString = newString + new_str + ' '\n",
        "    return newString\n",
        "\n",
        "def seq2text(input_seq):\n",
        "    newString=''\n",
        "    for item in input_seq:\n",
        "      if(item != 0):\n",
        "        try:\n",
        "          new_str = reverse_source_word_index(item)\n",
        "        except:\n",
        "          new_str = '[UNK]'\n",
        "        newString = newString + new_str + ' '\n",
        "    return newString"
      ],
      "execution_count": null,
      "outputs": []
    },
    {
      "cell_type": "code",
      "metadata": {
        "id": "gks2rIBct9Qj",
        "colab": {
          "base_uri": "https://localhost:8080/"
        },
        "outputId": "253800e9-0912-41c3-8217-ca75acf16102"
      },
      "source": [
        "for i in range(20):\n",
        "    print(\"Text:\",seq2text(X_train[i]))\n",
        "    print(\"Original title:\",seq2summary(Y_train[i]))\n",
        "    print(\"Predicted title:\",decode_sequence(X_train[i].reshape(1, -1)))\n",
        "    print(\"\\n\")"
      ],
      "execution_count": null,
      "outputs": [
        {
          "output_type": "stream",
          "text": [
            "Text: [CLS] i have bought several of the vital ##ity canned dog food products and have found them all to be of good quality . the product looks more like a stew than a processed meat and it smells better . my labrador is fin ##ick ##y and she appreciate ##s this product better than most . [SEP] \n",
            "Original title: good quality dog food \n",
            "Predicted title:  great dog food\n",
            "\n",
            "\n",
            "Text: [CLS] product arrived labeled as ju ##mbo salt ##ed peanuts . . . the peanuts were actually small sized un ##sal ##ted . not sure if this was an error or if the vendor intended to represent the product as \" ju ##mbo \" . [SEP] \n",
            "Original title: not as advertised \n",
            "Predicted title:  not as good as the money\n",
            "\n",
            "\n",
            "Text: [CLS] this is a con ##fect ##ion that has been around a few centuries . it is a light , pillow ##y citrus gel ##atin with nuts - in this case fi ##lbert ##s . and it is cut into tiny squares and then liberal ##ly coated with powder ##ed sugar . and it is a tiny mouthful of heaven . not too chew ##y , and very flavor ##ful . i highly recommend this yu ##mmy treat . if you are familiar with the story of c . s . lewis ' \" the lion , the witch , and the wardrobe \" - this is the treat that seduce ##s edmund into selling out his brother and sisters to the witch . [SEP] \n",
            "Original title: \" delight \" says it all \n",
            "Predicted title:  great for a snack\n",
            "\n",
            "\n",
            "Text: [CLS] if you are looking for the secret ingredient in rob ##it ##uss ##in i believe i have found it . i got this in addition to the root beer extract i ordered ( which was good ) and made some cherry soda . the flavor is very medicinal . [SEP] \n",
            "Original title: cough medicine \n",
            "Predicted title:  great product\n",
            "\n",
            "\n",
            "Text: [CLS] great ta ##ffy at a great price . there was a wide assortment of yu ##mmy ta ##ffy . delivery was very quick . if your a ta ##ffy lover , this is a deal . [SEP] \n",
            "Original title: great ta ##ffy \n",
            "Predicted title:  great snack\n",
            "\n",
            "\n",
            "Text: [CLS] i got a wild hair for ta ##ffy and ordered this five pound bag . the ta ##ffy was all very enjoyable with many flavors : water ##mel ##on , root beer , mel ##on , pepper ##min ##t , grape , etc . my only complaint is there was a bit too much red / black li ##cor ##ice - flavor ##ed pieces ( just not my particular favorites ) . between me , my kids , and my husband , this lasted only two weeks ! i would recommend this brand of ta ##ffy - - it was a delightful treat . [SEP] \n",
            "Original title: nice ta ##ffy \n",
            "Predicted title:  great snack\n",
            "\n",
            "\n",
            "Text: [CLS] this salt ##water ta ##ffy had great flavors and was very soft and chew ##y . each candy was individually wrapped well . none of the candi ##es were stuck together , which did happen in the expensive version , fra ##linger ' s . would highly recommend this candy ! i served it at a beach - themed party and everyone loved it ! [SEP] \n",
            "Original title: great ! just as good as the expensive brands ! \n",
            "Predicted title:  delicious !\n",
            "\n",
            "\n",
            "Text: [CLS] this ta ##ffy is so good . it is very soft and chew ##y . the flavors are amazing . i would definitely recommend you buying it . very satisfying ! ! [SEP] \n",
            "Original title: wonderful , ta ##sty ta ##ffy \n",
            "Predicted title:  yu ##mmy !\n",
            "\n",
            "\n",
            "Text: [CLS] right now i ' m mostly just sp ##rou ##ting this so my cats can eat the grass . they love it . i rotate it around with wheat ##grass and rye too [SEP] \n",
            "Original title: ya ##y barley \n",
            "Predicted title:  great food\n",
            "\n",
            "\n",
            "Text: [CLS] this is a very healthy dog food . good for their digest ##ion . also good for small pup ##pies . my dog eats her required amount at every feeding . [SEP] \n",
            "Original title: healthy dog food \n",
            "Predicted title:  great dog food\n",
            "\n",
            "\n",
            "Text: [CLS] i don ' t know if it ' s the cactus or the tequila or just the unique combination of ingredients , but the flavour of this hot sauce makes it one of a kind ! we picked up a bottle once on a trip we were on and brought it back home with us and were totally blown away ! when we realized that we simply couldn ' t find it anywhere in our city we were bum ##med . < br / > < br / > now , because of the magic of the internet , we have a case of the sauce and are ec ##static because of it . < br / > < br / > if you love hot sauce . . i mean really love hot sauce , but don ' t want a sauce that taste ##lessly burns your throat , grab a bottle of tequila pic ##ante go ##ur ##met de inc ##lan . just realize that once you taste it , you will never want to use any other sauce . < br / > < br / > thank you for the personal , incredible service ! [SEP] \n",
            "Original title: the best hot sauce in the world \n",
            "Predicted title:  great product , great price !\n",
            "\n",
            "\n",
            "Text: [CLS] one of my boys needed to lose some weight and the other didn ' t . i put this food on the floor for the chu ##bby guy , and the protein - rich , no by - product food up higher where only my skinny boy can jump . the higher food sits going stale . they both really go for this food . and my chu ##bby boy has been losing about an ounce a week . [SEP] \n",
            "Original title: my cats love this \" diet \" food better than their regular food \n",
            "Predicted title:  great food , but not as good as the cats\n",
            "\n",
            "\n",
            "Text: [CLS] my cats have been happily eating fe ##lidae platinum for more than two years . i just got a new bag and the shape of the food is different . they tried the new food when i first put it in their bowls and now the bowls sit full and the kit ##ties will not touch the food . i ' ve noticed similar reviews related to formula changes in the past . unfortunately , i now need to find a new food that my cats will eat . [SEP] \n",
            "Original title: my cats are not fans of the new food \n",
            "Predicted title:  great food , but not as good as the cats\n",
            "\n",
            "\n",
            "Text: [CLS] good flavor ! these came securely packed . . . they were fresh and delicious ! i love these t ##wi ##zzle ##rs ! [SEP] \n",
            "Original title: fresh and greasy ! \n",
            "Predicted title:  yu ##mmy !\n",
            "\n",
            "\n",
            "Text: [CLS] the strawberry t ##wi ##zzle ##rs are my guilty pleasure - yu ##mmy . six pounds will be around for a while with my son and i . [SEP] \n",
            "Original title: strawberry t ##wi ##zzle ##rs - yu ##mmy \n",
            "Predicted title:  great product\n",
            "\n",
            "\n",
            "Text: [CLS] my daughter loves t ##wi ##zzle ##rs and this shipment of six pounds really hit the spot . it ' s exactly what you would expect . . . six packages of strawberry t ##wi ##zzle ##rs . [SEP] \n",
            "Original title: lots of t ##wi ##zzle ##rs , just what you expect . \n",
            "Predicted title:  great product\n",
            "\n",
            "\n",
            "Text: [CLS] i love eating them and they are good for watching tv and looking at movies ! it is not too sweet . i like to transfer them to a zip lock bag ##gie so they stay fresh so i can take my time eating them . [SEP] \n",
            "Original title: poor taste \n",
            "Predicted title:  great snack\n",
            "\n",
            "\n",
            "Text: [CLS] i am very satisfied with my t ##wi ##zzle ##r purchase . i shared these with others and we have all enjoyed them . i will definitely be ordering more . [SEP] \n",
            "Original title: love it ! \n",
            "Predicted title:  great product\n",
            "\n",
            "\n",
            "Text: [CLS] t ##wi ##zzle ##rs , strawberry my childhood favorite candy , made in lancaster pennsylvania by y & s candi ##es , inc . one of the oldest con ##fect ##ion ##ery firms in the united states , now a subsidiary of the hers ##hey company , the company was established in 1845 as young and sm ##yl ##ie , they also make apple li ##cor ##ice twists , green color and blue ras ##p ##berry li ##cor ##ice twists , i like them all < br / > < br / > i keep it in a dry cool place because is not recommended it to put it in the fridge . according to the guinness book of records , the longest li ##cor ##ice twist ever made measured 1 . 200 feet ( 370 m ) and weighted 100 pounds ( 45 kg ) and was made by y & s candi ##es , inc . this record - breaking twist became a guinness world record on july 19 , 1998 . this product is ko ##sher ! thank you [SEP] \n",
            "Original title: great sweet candy ! \n",
            "Predicted title:  delicious !\n",
            "\n",
            "\n",
            "Text: [CLS] candy was delivered very fast and was purchased at a reasonable price . i was home bound and unable to get to a store so this was perfect for me . [SEP] \n",
            "Original title: home delivered t ##wi ##zle ##rs \n",
            "Predicted title:  great product\n",
            "\n",
            "\n"
          ],
          "name": "stdout"
        }
      ]
    },
    {
      "cell_type": "code",
      "metadata": {
        "id": "-eIj3AXi46sE"
      },
      "source": [
        ""
      ],
      "execution_count": null,
      "outputs": []
    }
  ]
}