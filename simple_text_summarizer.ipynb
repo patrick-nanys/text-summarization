{
  "nbformat": 4,
  "nbformat_minor": 0,
  "metadata": {
    "colab": {
      "name": "simple_text_summarizer.ipynb",
      "provenance": [],
      "collapsed_sections": [],
      "toc_visible": true,
      "include_colab_link": true
    },
    "kernelspec": {
      "name": "python3",
      "display_name": "Python 3"
    },
    "accelerator": "GPU"
  },
  "cells": [
    {
      "cell_type": "markdown",
      "metadata": {
        "id": "view-in-github",
        "colab_type": "text"
      },
      "source": [
        "<a href=\"https://colab.research.google.com/github/patrick-nanys/text-summarization/blob/main/simple_text_summarizer.ipynb\" target=\"_parent\"><img src=\"https://colab.research.google.com/assets/colab-badge.svg\" alt=\"Open In Colab\"/></a>"
      ]
    },
    {
      "cell_type": "markdown",
      "metadata": {
        "id": "8CLvBco2J-xK"
      },
      "source": [
        "## Deep learning homework - Milestone 2\n",
        "#####Topic: NLP - text summarization\n",
        "#####Authors: Patrick Nanys, Mate Jakab (Goal Diggers)"
      ]
    },
    {
      "cell_type": "markdown",
      "metadata": {
        "id": "pGZDgfz_a6HG"
      },
      "source": [
        "###1. Data load from xlsx \n",
        "\n",
        "> Source: https://www.kaggle.com/shashichander009/inshorts-news-data\n",
        "> Source2.0: https://www.kaggle.com/snap/amazon-fine-food-reviews\n",
        "\n"
      ]
    },
    {
      "cell_type": "code",
      "metadata": {
        "id": "FAEriAFohCba",
        "colab": {
          "base_uri": "https://localhost:8080/"
        },
        "outputId": "cc26afa3-acea-444a-c710-9d94153ed058"
      },
      "source": [
        "import pandas as pd\n",
        "\n",
        "#xls = pd.read_excel(\"Inshorts Cleaned Data.xlsx\")\n",
        "xls = pd.read_excel(\"reviews.xlsx\")\n",
        "# Load articles, stories\n",
        "input_raw = xls['Short']\n",
        "# Load headlines for articles and stories\n",
        "output_raw = xls['Headline']\n",
        "\n",
        "# Show example\n",
        "print(input_raw.head(), output_raw.head())"
      ],
      "execution_count": 51,
      "outputs": [
        {
          "output_type": "stream",
          "text": [
            "0    I have bought several of the Vitality canned d...\n",
            "1    Product arrived labeled as Jumbo Salted Peanut...\n",
            "2    This is a confection that has been around a fe...\n",
            "3    If you are looking for the secret ingredient i...\n",
            "4    Great taffy at a great price.  There was a wid...\n",
            "Name: Short, dtype: object 0    Good Quality Dog Food\n",
            "1        Not as Advertised\n",
            "2    \"Delight\" says it all\n",
            "3           Cough Medicine\n",
            "4              Great taffy\n",
            "Name: Headline, dtype: object\n"
          ],
          "name": "stdout"
        }
      ]
    },
    {
      "cell_type": "markdown",
      "metadata": {
        "id": "h0CyGJ3cgoT0"
      },
      "source": [
        "###2. Taking out stopwords and shorten words (optional)\n",
        "> Shortening options: lemmatizing/stemmimg\n",
        "\n"
      ]
    },
    {
      "cell_type": "code",
      "metadata": {
        "id": "fCwWTYGhymGQ",
        "colab": {
          "base_uri": "https://localhost:8080/"
        },
        "outputId": "39550b0a-746e-4d9a-9819-365477cc644c"
      },
      "source": [
        "# nltk library and used modules\n",
        "import nltk\n",
        "nltk.download('averaged_perceptron_tagger')\n",
        "nltk.download('wordnet')\n",
        "nltk.download('stopwords')\n",
        "nltk.download('punkt')\n",
        "from nltk.tokenize import word_tokenize \n",
        "from nltk.corpus import stopwords\n",
        "from nltk.tokenize.treebank import TreebankWordDetokenizer\n",
        "from nltk.stem import WordNetLemmatizer \n",
        "from nltk.stem import PorterStemmer \n",
        "from nltk.corpus import wordnet\n",
        "from tqdm.notebook import tqdm\n",
        "\n",
        "# Lemmatize with POS Tag (a given word gets the right POS tag)\n",
        "def get_wordnet_pos(word):\n",
        "    tag = nltk.pos_tag([word])[0][1][0].upper()\n",
        "    tag_dict = {\"J\": wordnet.ADJ,\n",
        "                \"N\": wordnet.NOUN,\n",
        "                \"V\": wordnet.VERB,\n",
        "                \"R\": wordnet.ADV}\n",
        "    return tag_dict.get(tag, wordnet.NOUN)"
      ],
      "execution_count": 52,
      "outputs": [
        {
          "output_type": "stream",
          "text": [
            "[nltk_data] Downloading package averaged_perceptron_tagger to\n",
            "[nltk_data]     /root/nltk_data...\n",
            "[nltk_data]   Package averaged_perceptron_tagger is already up-to-\n",
            "[nltk_data]       date!\n",
            "[nltk_data] Downloading package wordnet to /root/nltk_data...\n",
            "[nltk_data]   Package wordnet is already up-to-date!\n",
            "[nltk_data] Downloading package stopwords to /root/nltk_data...\n",
            "[nltk_data]   Package stopwords is already up-to-date!\n",
            "[nltk_data] Downloading package punkt to /root/nltk_data...\n",
            "[nltk_data]   Package punkt is already up-to-date!\n"
          ],
          "name": "stdout"
        }
      ]
    },
    {
      "cell_type": "code",
      "metadata": {
        "id": "hXMYhpsWncrC",
        "colab": {
          "base_uri": "https://localhost:8080/"
        },
        "outputId": "756ab2f6-e3a2-4a06-9f19-bc71651075cf"
      },
      "source": [
        "print('Lemmatizing example')\n",
        "\n",
        "words = [\"dogs\", \"are\", \"better\", \"than\", \"cats\"] \n",
        "for w in words:\n",
        "    print(w, \"\\t->\", WordNetLemmatizer().lemmatize(w, get_wordnet_pos(w)))\n",
        "\n",
        "print('\\nStemming example')\n",
        "\n",
        "words = [\"run\", \"ran\", \"runner\", \"running\"] \n",
        "for w in words: \n",
        "    print(w, \"->\", PorterStemmer().stem(w)) "
      ],
      "execution_count": 53,
      "outputs": [
        {
          "output_type": "stream",
          "text": [
            "Lemmatizing example\n",
            "dogs \t-> dog\n",
            "are \t-> be\n",
            "better \t-> well\n",
            "than \t-> than\n",
            "cats \t-> cat\n",
            "\n",
            "Stemming example\n",
            "run -> run\n",
            "ran -> ran\n",
            "runner -> runner\n",
            "running -> run\n"
          ],
          "name": "stdout"
        }
      ]
    },
    {
      "cell_type": "code",
      "metadata": {
        "id": "kTMaCpj6iR8J"
      },
      "source": [
        "def takeoutstopwords_and_shorten(data, mode='none'):\n",
        "    data_nltk = []\n",
        "\n",
        "    # nltk's built in lemmatizer, stemmer and detokenizer\n",
        "    lemmatizer = WordNetLemmatizer()  \n",
        "    ps = PorterStemmer()\n",
        "    detok = TreebankWordDetokenizer()\n",
        "\n",
        "    # Cycle through data (range set to 10 instead of data.size until we use this)\n",
        "    for i in tqdm(range(data.size)):  #range(data.size)\n",
        "        # Tokenize\n",
        "        tokenized = word_tokenize(data[i])\n",
        "        # Take out stopwords\n",
        "        without_stopword = [word for word in tokenized if not word in stopwords.words('english')]\n",
        "        # Shorten if parameter 'mode' is 'lemmatize' or 'stem'\n",
        "        shorter = []\n",
        "        for word in without_stopword: \n",
        "            if mode == 'lemmatize':\n",
        "                shorter.append(lemmatizer.lemmatize(word, get_wordnet_pos(word)))\n",
        "            elif mode == 'stem':\n",
        "                shorter.append(ps.stem(word))\n",
        "            else:\n",
        "                shorter.append(word)\n",
        "        # Detokenize\n",
        "        back_to_string = detok.detokenize(shorter)\n",
        "\n",
        "        data_nltk.append(back_to_string)\n",
        "\n",
        "    return data_nltk"
      ],
      "execution_count": 54,
      "outputs": []
    },
    {
      "cell_type": "code",
      "metadata": {
        "id": "LtQL4PzhsL3-"
      },
      "source": [
        "# Take out stopwords and shorten input_raw data with lemmatize and stem\n",
        "input_nltk_lemma = takeoutstopwords_and_shorten(input_raw, mode='lemmatize')\n",
        "input_nltk_stem = takeoutstopwords_and_shorten(input_raw, mode='stem')\n",
        "\n",
        "#Maybe it is useless to take out stopwords from output value (it is already short)\n",
        "#output_nltk = takeoutstopwords_and_shorten(output_raw)\n",
        "\n",
        "i = 2\n",
        "print('Example\\n', input_raw[i], '\\n', input_nltk_lemma[i], '\\n', input_nltk_stem[i])\n",
        "\n",
        "#Not connected to tokenization yet"
      ],
      "execution_count": null,
      "outputs": []
    },
    {
      "cell_type": "markdown",
      "metadata": {
        "id": "Cn24taYItgm3"
      },
      "source": [
        "###3. Tokenization and padding"
      ]
    },
    {
      "cell_type": "markdown",
      "metadata": {
        "id": "-5NArR5oguZC"
      },
      "source": [
        "##### Obtaining length data"
      ]
    },
    {
      "cell_type": "code",
      "metadata": {
        "id": "ZVFDLC_pg0FQ",
        "colab": {
          "base_uri": "https://localhost:8080/"
        },
        "outputId": "355eb244-e250-458e-b31c-fcfcd3400cf2"
      },
      "source": [
        "input_lengths = pd.Series([len(x) for x in input_raw])\n",
        "output_lengths = pd.Series([len(str(x)) for x in output_raw])\n",
        "print('Inputs:\\n', input_lengths.describe())\n",
        "print('Outputs:\\n', output_lengths.describe())"
      ],
      "execution_count": 55,
      "outputs": [
        {
          "output_type": "stream",
          "text": [
            "Inputs:\n",
            " count    568454.000000\n",
            "mean        436.225255\n",
            "std         445.349016\n",
            "min          12.000000\n",
            "25%         179.000000\n",
            "50%         302.000000\n",
            "75%         527.000000\n",
            "max       21409.000000\n",
            "dtype: float64\n",
            "Outputs:\n",
            " count    568454.000000\n",
            "mean         23.446018\n",
            "std          14.028805\n",
            "min           1.000000\n",
            "25%          13.000000\n",
            "50%          20.000000\n",
            "75%          30.000000\n",
            "max         128.000000\n",
            "dtype: float64\n"
          ],
          "name": "stdout"
        }
      ]
    },
    {
      "cell_type": "code",
      "metadata": {
        "id": "fvKS-MbphCPK"
      },
      "source": [
        "# maxlen\n",
        "# taking values > and round figured to 75th percentile\n",
        "# at the same time not leaving high variance\n",
        "encoder_maxlen = 525\n",
        "decoder_maxlen = 30"
      ],
      "execution_count": 56,
      "outputs": []
    },
    {
      "cell_type": "markdown",
      "metadata": {
        "id": "olKeNNn5hLnY"
      },
      "source": [
        "Adding start and stop signs"
      ]
    },
    {
      "cell_type": "code",
      "metadata": {
        "id": "sxQt7HvhhJ76"
      },
      "source": [
        "# should be applied to output\n",
        "def apply_start_end(data):\n",
        "  return data.apply(lambda x: '<start> ' + str(x) + ' <end>')"
      ],
      "execution_count": 57,
      "outputs": []
    },
    {
      "cell_type": "markdown",
      "metadata": {
        "id": "eF4knn3xhpj8"
      },
      "source": [
        "#### Tokenization"
      ]
    },
    {
      "cell_type": "code",
      "metadata": {
        "id": "I72VwUr7hsHG"
      },
      "source": [
        "from tensorflow.keras.preprocessing.text import Tokenizer\n",
        "\n",
        "def tokenize(inputs, outputs):\n",
        "  # since < and > from default tokens cannot be removed\n",
        "  filters = '!\"#$%&()*+,-./:;=?@[\\\\]^_`{|}~\\t\\n'\n",
        "  oov_token = '<unk>'\n",
        "\n",
        "  input_tokenizer = Tokenizer(oov_token=oov_token)\n",
        "  output_tokenizer = Tokenizer(filters=filters, oov_token=oov_token)\n",
        "\n",
        "  input_tokenizer.fit_on_texts(inputs)\n",
        "  output_tokenizer.fit_on_texts(outputs)\n",
        "\n",
        "  tokenized_inputs = input_tokenizer.texts_to_sequences(inputs)\n",
        "  tokenized_outputs = output_tokenizer.texts_to_sequences(outputs)\n",
        "\n",
        "  return tokenized_inputs, tokenized_outputs, (input_tokenizer, output_tokenizer)"
      ],
      "execution_count": 58,
      "outputs": []
    },
    {
      "cell_type": "markdown",
      "metadata": {
        "id": "yJiyIJYciIgT"
      },
      "source": [
        "#### Padding"
      ]
    },
    {
      "cell_type": "code",
      "metadata": {
        "id": "_3cQXKA3iJx2"
      },
      "source": [
        "from tensorflow.keras.preprocessing.sequence import pad_sequences\n",
        "\n",
        "def add_padding(inputs, outputs, encoder_maxlen, decoder_maxlen):\n",
        "  padded_inputs = pad_sequences(inputs, maxlen=encoder_maxlen, padding='post', truncating='post')\n",
        "  padded_outputs = pad_sequences(outputs, maxlen=decoder_maxlen, padding='post', truncating='post')\n",
        "  return padded_inputs, padded_outputs"
      ],
      "execution_count": 59,
      "outputs": []
    },
    {
      "cell_type": "markdown",
      "metadata": {
        "id": "QqLinn2u88J6"
      },
      "source": [
        "###4. Split dataset into train, validation and test datas"
      ]
    },
    {
      "cell_type": "code",
      "metadata": {
        "id": "xL15_ImQtNup"
      },
      "source": [
        "def dataset_split(X, Y, valid_split, test_split):\n",
        "  v_start = int(len(X)*(1-valid_split-test_split))\n",
        "  t_start = int(len(X)*(1-test_split))\n",
        "  X_train, Y_train = X[:v_start], Y[:v_start]\n",
        "  X_valid, Y_valid = X[v_start:t_start], Y[v_start:t_start]\n",
        "  X_test , Y_test  = X[t_start:], Y[t_start:]\n",
        "  return X_train, Y_train, X_valid, Y_valid, X_test, Y_test"
      ],
      "execution_count": 60,
      "outputs": []
    },
    {
      "cell_type": "markdown",
      "metadata": {
        "id": "papK44dU9hRk"
      },
      "source": [
        "###5. Testing"
      ]
    },
    {
      "cell_type": "code",
      "metadata": {
        "id": "UV2oR7no9lTr"
      },
      "source": [
        "# Example data preprocessing\n",
        "\n",
        "# replace unreadable part\n",
        "input_raw = input_raw.replace([\"&#39;\"], [\"'\"], regex=True)\n",
        "output_raw = output_raw.replace([\"&#39;\"], [\"'\"], regex=True)\n",
        "\n",
        "start_end_output = apply_start_end(output_raw[:50000])\n",
        "#lemmatized_inputs = takeoutstopwords_and_shorten(input_raw[:50000], mode='lemmatize')\n",
        "tokenized_inputs, tokenized_outputs, tokenizers = tokenize(input_raw[:50000], start_end_output)\n",
        "X, Y = add_padding(tokenized_inputs, tokenized_outputs, encoder_maxlen, decoder_maxlen)\n",
        "X_train, Y_train, X_valid, Y_valid, X_test, Y_test = dataset_split(X, Y, valid_split=0.2, test_split=0.1)"
      ],
      "execution_count": 61,
      "outputs": []
    },
    {
      "cell_type": "code",
      "metadata": {
        "id": "4zsPsF5RwEDA"
      },
      "source": [
        ""
      ],
      "execution_count": null,
      "outputs": []
    },
    {
      "cell_type": "code",
      "metadata": {
        "id": "U18-gdqHQJzA"
      },
      "source": [
        "# Run this cell to skip the above 10 minute preprocessing if you have the file below\n",
        "import pickle\n",
        "\n",
        "PICKLE_FILE = 'preprocess_save.pkl'\n",
        "\n",
        "with open(PICKLE_FILE, 'rb') as file:\n",
        "  loaded_obj = pickle.load(file)\n",
        "\n",
        "(X_train, Y_train, X_valid, Y_valid, X_test, Y_test, tokenizers) = loaded_obj"
      ],
      "execution_count": null,
      "outputs": []
    },
    {
      "cell_type": "code",
      "metadata": {
        "id": "RsJvM3ZsYrkJ",
        "colab": {
          "base_uri": "https://localhost:8080/"
        },
        "outputId": "b7779ce8-ed7a-49af-bcd3-efe47d1371e1"
      },
      "source": [
        "X_train.shape, Y_train.shape, X_valid.shape, Y_valid.shape, X_test.shape, Y_test.shape"
      ],
      "execution_count": 63,
      "outputs": [
        {
          "output_type": "execute_result",
          "data": {
            "text/plain": [
              "((35000, 525), (35000, 30), (10000, 525), (10000, 30), (5000, 525), (5000, 30))"
            ]
          },
          "metadata": {
            "tags": []
          },
          "execution_count": 63
        }
      ]
    },
    {
      "cell_type": "code",
      "metadata": {
        "id": "5AjkbDf1aHlB",
        "colab": {
          "base_uri": "https://localhost:8080/"
        },
        "outputId": "2cd0274d-b914-4b3c-b149-8d293e18ed99"
      },
      "source": [
        "X_train.shape[0] + X_valid.shape[0] + X_test.shape[0]"
      ],
      "execution_count": 64,
      "outputs": [
        {
          "output_type": "execute_result",
          "data": {
            "text/plain": [
              "50000"
            ]
          },
          "metadata": {
            "tags": []
          },
          "execution_count": 64
        }
      ]
    },
    {
      "cell_type": "code",
      "metadata": {
        "id": "eG_fxdvLLibO"
      },
      "source": [
        ""
      ],
      "execution_count": null,
      "outputs": []
    },
    {
      "cell_type": "code",
      "metadata": {
        "id": "3j0x8lrptYhC",
        "colab": {
          "base_uri": "https://localhost:8080/"
        },
        "outputId": "d99b0b99-87d6-45fc-81ae-26b0d075fb9e"
      },
      "source": [
        "x_vocab = len(tokenizers[0].word_index)\n",
        "y_vocab = len(tokenizers[1].word_index)\n",
        "x_vocab, y_vocab"
      ],
      "execution_count": 65,
      "outputs": [
        {
          "output_type": "execute_result",
          "data": {
            "text/plain": [
              "(43036, 11214)"
            ]
          },
          "metadata": {
            "tags": []
          },
          "execution_count": 65
        }
      ]
    },
    {
      "cell_type": "markdown",
      "metadata": {
        "id": "GspMEDS-qs57"
      },
      "source": [
        "# Training"
      ]
    },
    {
      "cell_type": "code",
      "metadata": {
        "id": "iiNQeGg3tbVN"
      },
      "source": [
        "from tensorflow.keras import Model\n",
        "from tensorflow.keras.layers import Input, LSTM, Embedding, Dense, Concatenate, Attention, Dropout"
      ],
      "execution_count": 66,
      "outputs": []
    },
    {
      "cell_type": "markdown",
      "metadata": {
        "id": "1RiyLPpasNOZ"
      },
      "source": [
        "### Architecture"
      ]
    },
    {
      "cell_type": "code",
      "metadata": {
        "id": "J5xxRw3crc-3"
      },
      "source": [
        "embedding_dim = 250 #50\n",
        "hidden_dim = 250 #60\n",
        "\n",
        "ENC_LSTM_NUM = 3 #3\n",
        "ENC_LSTM_DROPOUT = 0.4 #0.4\n",
        "ENC_LSTM_RECURRENT_DROPOUT = 0.4 #0.4\n",
        "\n",
        "# Architecture\n",
        "\n",
        "# Encoder\n",
        "enc_emb = Embedding(x_vocab, embedding_dim)\n",
        "enc_lstms = []\n",
        "for i in range(ENC_LSTM_NUM):\n",
        "  enc_lstms.append(LSTM(hidden_dim, return_sequences=True, return_state=True))\n",
        "dropout = Dropout(ENC_LSTM_DROPOUT)\n",
        "\n",
        "# Decoder\n",
        "dec_emb = Embedding(y_vocab, embedding_dim)\n",
        "dec_lstm = LSTM(hidden_dim, return_sequences=True, return_state=True)\n",
        "attn = Attention()\n",
        "concat = Concatenate()\n",
        "dec_fc = Dense(y_vocab, activation='softmax')"
      ],
      "execution_count": 80,
      "outputs": []
    },
    {
      "cell_type": "markdown",
      "metadata": {
        "id": "eCRT-PAHsShB"
      },
      "source": [
        "### Building the model"
      ]
    },
    {
      "cell_type": "code",
      "metadata": {
        "id": "5cbN9TsFtxin",
        "colab": {
          "base_uri": "https://localhost:8080/"
        },
        "outputId": "c866f2d2-2c70-4e6b-c090-aa5a08c40808"
      },
      "source": [
        "# Building the model\n",
        "\n",
        "# Encoder\n",
        "encoder_input = Input(shape=(encoder_maxlen,))\n",
        "enc_emb_out = enc_emb(encoder_input)\n",
        "lstm_in = enc_emb_out\n",
        "for i in range(ENC_LSTM_NUM - 1):\n",
        "  lstm_out, h, c = enc_lstms[i](lstm_in)\n",
        "  lstm_out = dropout(lstm_out)\n",
        "  lstm_in = lstm_out\n",
        "enc_output, enc_state_h, enc_state_c = enc_lstms[-1](lstm_in)\n",
        " \n",
        "# Decoder\n",
        "decoder_input = Input(shape=(None,))\n",
        "dec_emb_out = dec_emb(decoder_input)\n",
        "dec_output, dec_state_h, dec_state_c = dec_lstm(dec_emb_out, initial_state=[enc_state_h, enc_state_c])\n",
        "\n",
        "attn_out = attn([dec_output, enc_output])\n",
        "concat_out = concat([dec_output, attn_out])\n",
        "output = dec_fc(concat_out)\n",
        "\n",
        "model = Model([encoder_input, decoder_input], output)\n",
        "model.summary()"
      ],
      "execution_count": 81,
      "outputs": [
        {
          "output_type": "stream",
          "text": [
            "Model: \"functional_19\"\n",
            "__________________________________________________________________________________________________\n",
            "Layer (type)                    Output Shape         Param #     Connected to                     \n",
            "==================================================================================================\n",
            "input_16 (InputLayer)           [(None, 525)]        0                                            \n",
            "__________________________________________________________________________________________________\n",
            "embedding_6 (Embedding)         (None, 525, 250)     10759000    input_16[0][0]                   \n",
            "__________________________________________________________________________________________________\n",
            "lstm_13 (LSTM)                  [(None, 525, 250), ( 501000      embedding_6[0][0]                \n",
            "__________________________________________________________________________________________________\n",
            "dropout_3 (Dropout)             (None, 525, 250)     0           lstm_13[0][0]                    \n",
            "                                                                 lstm_14[0][0]                    \n",
            "__________________________________________________________________________________________________\n",
            "lstm_14 (LSTM)                  [(None, 525, 250), ( 501000      dropout_3[0][0]                  \n",
            "__________________________________________________________________________________________________\n",
            "input_17 (InputLayer)           [(None, None)]       0                                            \n",
            "__________________________________________________________________________________________________\n",
            "embedding_7 (Embedding)         (None, None, 250)    2803500     input_17[0][0]                   \n",
            "__________________________________________________________________________________________________\n",
            "lstm_15 (LSTM)                  [(None, 525, 250), ( 501000      dropout_3[1][0]                  \n",
            "__________________________________________________________________________________________________\n",
            "lstm_16 (LSTM)                  [(None, None, 250),  501000      embedding_7[0][0]                \n",
            "                                                                 lstm_15[0][1]                    \n",
            "                                                                 lstm_15[0][2]                    \n",
            "__________________________________________________________________________________________________\n",
            "attention_3 (Attention)         (None, None, 250)    0           lstm_16[0][0]                    \n",
            "                                                                 lstm_15[0][0]                    \n",
            "__________________________________________________________________________________________________\n",
            "concatenate_3 (Concatenate)     (None, None, 500)    0           lstm_16[0][0]                    \n",
            "                                                                 attention_3[0][0]                \n",
            "__________________________________________________________________________________________________\n",
            "dense_3 (Dense)                 (None, None, 11214)  5618214     concatenate_3[0][0]              \n",
            "==================================================================================================\n",
            "Total params: 21,184,714\n",
            "Trainable params: 21,184,714\n",
            "Non-trainable params: 0\n",
            "__________________________________________________________________________________________________\n"
          ],
          "name": "stdout"
        }
      ]
    },
    {
      "cell_type": "code",
      "metadata": {
        "id": "VhAQD6ctsE_C"
      },
      "source": [
        "model.compile(optimizer='rmsprop', loss='sparse_categorical_crossentropy')"
      ],
      "execution_count": 82,
      "outputs": []
    },
    {
      "cell_type": "markdown",
      "metadata": {
        "id": "a44gkWMnsXlA"
      },
      "source": [
        "### Training"
      ]
    },
    {
      "cell_type": "code",
      "metadata": {
        "id": "7GdBagPjoCA6"
      },
      "source": [
        "def get_model_input(X, Y):\n",
        "  \"\"\"\n",
        "    List of X and Y where Ys last word is excluded\n",
        "  \"\"\"\n",
        "  return [X, Y[:,:-1]]\n",
        "\n",
        "def get_model_output(Y):\n",
        "  \"\"\"\n",
        "    Y input shifted right (first word excluded) and made it third dimensional\n",
        "  \"\"\"\n",
        "  return Y.reshape(Y.shape[0],Y.shape[1], 1)[:,1:]"
      ],
      "execution_count": 83,
      "outputs": []
    },
    {
      "cell_type": "code",
      "metadata": {
        "id": "nlxBwsdmw4CT"
      },
      "source": [
        "from tensorflow.keras.callbacks import EarlyStopping\n",
        "earlystopping = EarlyStopping(monitor='val_loss', mode='min', verbose=1)"
      ],
      "execution_count": 84,
      "outputs": []
    },
    {
      "cell_type": "code",
      "metadata": {
        "id": "VBjqAZ8Ik0o2",
        "colab": {
          "base_uri": "https://localhost:8080/"
        },
        "outputId": "35ceb24c-3465-4ff9-d8d4-e7fcee8a20ad"
      },
      "source": [
        "from tensorflow.keras.callbacks import ModelCheckpoint\n",
        "\n",
        "SAVED_MODEL_PATH = 'model.hdf5'\n",
        "\n",
        "checkpointer = ModelCheckpoint(filepath=SAVED_MODEL_PATH, save_best_only=True, verbose=0)\n",
        "\n",
        "history = model.fit(\n",
        "    get_model_input(X_train, Y_train),\n",
        "    get_model_output(Y_train),\n",
        "    epochs=20,\n",
        "    batch_size=32, #32,\n",
        "    validation_data=(\n",
        "        get_model_input(X_valid, Y_valid),\n",
        "        get_model_output(Y_valid)\n",
        "        ),\n",
        "    callbacks=[checkpointer, earlystopping]\n",
        "    )"
      ],
      "execution_count": 85,
      "outputs": [
        {
          "output_type": "stream",
          "text": [
            "Epoch 1/20\n",
            "1094/1094 [==============================] - 226s 207ms/step - loss: 1.0032 - val_loss: 0.9543\n",
            "Epoch 2/20\n",
            "1094/1094 [==============================] - 220s 201ms/step - loss: 0.8869 - val_loss: 0.9131\n",
            "Epoch 3/20\n",
            "1094/1094 [==============================] - 219s 200ms/step - loss: 0.8449 - val_loss: 0.8900\n",
            "Epoch 4/20\n",
            "1094/1094 [==============================] - 220s 201ms/step - loss: 0.8166 - val_loss: 0.8822\n",
            "Epoch 5/20\n",
            "1094/1094 [==============================] - 221s 202ms/step - loss: 0.7957 - val_loss: 0.8740\n",
            "Epoch 6/20\n",
            "1094/1094 [==============================] - 220s 201ms/step - loss: 0.7792 - val_loss: 0.8725\n",
            "Epoch 7/20\n",
            "1094/1094 [==============================] - 219s 201ms/step - loss: 0.7646 - val_loss: 0.8699\n",
            "Epoch 8/20\n",
            "1094/1094 [==============================] - 219s 200ms/step - loss: 0.7520 - val_loss: 0.8686\n",
            "Epoch 9/20\n",
            "1094/1094 [==============================] - 218s 199ms/step - loss: 0.7422 - val_loss: 0.8755\n",
            "Epoch 00009: early stopping\n"
          ],
          "name": "stdout"
        }
      ]
    },
    {
      "cell_type": "code",
      "metadata": {
        "id": "kTjzGEI0fNjV"
      },
      "source": [
        "import pandas as pd\n",
        "import seaborn as sns\n",
        "import matplotlib.pyplot as plt\n",
        "\n",
        "def plot_metrics(histories):\n",
        "  \"\"\"\n",
        "  Function for plotting the loss of models that we run.\n",
        "  So its not only visible from tensorboard.\n",
        "  \"\"\"\n",
        "  \n",
        "  loss, val_loss = [], []\n",
        "  for history in histories:\n",
        "    loss += history.history['loss']\n",
        "    val_loss += history.history['val_loss']\n",
        "\n",
        "  epochs = [x+1 for x in range(len(loss))]\n",
        "\n",
        "  loss_data = pd.DataFrame({'epoch':epochs, 'train_loss':loss, 'valid_loss':val_loss})\n",
        "  sns.lineplot(x='epoch', y='value', hue='variable', data=pd.melt(loss_data, ['epoch']))"
      ],
      "execution_count": 86,
      "outputs": []
    },
    {
      "cell_type": "code",
      "metadata": {
        "id": "Bhkh1S7ffPEH",
        "colab": {
          "base_uri": "https://localhost:8080/",
          "height": 279
        },
        "outputId": "5c34bd00-b371-4804-ea6d-a55f65372128"
      },
      "source": [
        "plot_metrics([history])"
      ],
      "execution_count": 87,
      "outputs": [
        {
          "output_type": "display_data",
          "data": {
            "image/png": "[encoded data removed]",
            "text/plain": [
              "<Figure size 432x288 with 1 Axes>"
            ]
          },
          "metadata": {
            "tags": [],
            "needs_background": "light"
          }
        }
      ]
    },
    {
      "cell_type": "markdown",
      "metadata": {
        "id": "h9jg-sYVqoS3"
      },
      "source": [
        "# Inference"
      ]
    },
    {
      "cell_type": "code",
      "metadata": {
        "id": "iRtsDYqIyH3Z"
      },
      "source": [
        "# Encode\n",
        "encoder_model = Model(encoder_input, [enc_output, enc_state_h, enc_state_c])\n",
        "\n",
        "# Inputs for decode\n",
        "dec_state_input_h = Input(shape=(hidden_dim,))\n",
        "dec_state_input_c = Input(shape=(hidden_dim,))\n",
        "dec_hidden_state_input = Input(shape=(encoder_maxlen, hidden_dim))\n",
        "\n",
        "# Decode\n",
        "dec_emb_out2 = dec_emb(decoder_input)\n",
        "dec_output2, dec_state_h2, dec_state_c2 = dec_lstm(dec_emb_out2, initial_state=[dec_state_input_h, dec_state_input_c])\n",
        "attn_out2 = attn([dec_output2, dec_hidden_state_input])\n",
        "concat_out2 = concat([dec_output2, attn_out2])\n",
        "output = dec_fc(concat_out2)\n",
        "\n",
        "decoder_model = Model([decoder_input] + [dec_hidden_state_input, dec_state_input_h, dec_state_input_c], [output] + [dec_state_h2, dec_state_c2])"
      ],
      "execution_count": 88,
      "outputs": []
    },
    {
      "cell_type": "code",
      "metadata": {
        "id": "WcjYXDL75LvC"
      },
      "source": [
        "reverse_target_word_index=tokenizers[1].index_word\n",
        "reverse_source_word_index=tokenizers[0].index_word\n",
        "target_word_index=tokenizers[1].word_index"
      ],
      "execution_count": 89,
      "outputs": []
    },
    {
      "cell_type": "code",
      "metadata": {
        "id": "7CqtUoHy32RK"
      },
      "source": [
        "import numpy as np\n",
        "\n",
        "def decode_sequence(input_seq):\n",
        "  e_out, e_h, e_c = encoder_model.predict(input_seq)\n",
        "\n",
        "  target_seq = np.zeros((1, 1))\n",
        "  target_seq[0, 0] = target_word_index['<start>']\n",
        "\n",
        "  stop_condition = False\n",
        "  decoded_sentence = ''\n",
        "  while not stop_condition:\n",
        "\n",
        "    output_tokens, h, c = decoder_model.predict([target_seq] + [e_out, e_h, e_c])\n",
        "\n",
        "    # sample a token\n",
        "    sampled_token_index = np.argmax(output_tokens[0, -1, :])\n",
        "    try:\n",
        "      sampled_token = reverse_target_word_index[sampled_token_index]\n",
        "    except:\n",
        "      sampled_token = '<unk>'\n",
        "\n",
        "    if(sampled_token!='<end>'):\n",
        "      decoded_sentence += ' '+sampled_token\n",
        "\n",
        "    # Exit condition: either hit max length or find stop word.\n",
        "    if (sampled_token == '<end>'  or len(decoded_sentence.split()) >= (decoder_maxlen - 1)):\n",
        "      stop_condition = True\n",
        "\n",
        "    # Update the target sequence (of length 1).\n",
        "    target_seq = np.zeros((1,1))\n",
        "    target_seq[0, 0] = sampled_token_index\n",
        "\n",
        "    # Update internal states\n",
        "    e_h, e_c = h, c\n",
        "\n",
        "  return decoded_sentence"
      ],
      "execution_count": 90,
      "outputs": []
    },
    {
      "cell_type": "code",
      "metadata": {
        "id": "1WXzdaDm9R1R"
      },
      "source": [
        "def seq2summary(input_seq):\n",
        "    newString=''\n",
        "    for item in input_seq:\n",
        "        if(item != 0 and item != target_word_index['<start>'] and item != target_word_index['<end>']):\n",
        "          try:\n",
        "            new_str = reverse_target_word_index[item]\n",
        "          except:\n",
        "            new_str = '<unk>'\n",
        "          newString = newString + new_str + ' '\n",
        "    return newString\n",
        "\n",
        "def seq2text(input_seq):\n",
        "    newString=''\n",
        "    for item in input_seq:\n",
        "      if(item != 0):\n",
        "        try:\n",
        "          new_str = reverse_source_word_index[item]\n",
        "        except:\n",
        "          new_str = '<unk>'\n",
        "        newString = newString + new_str + ' '\n",
        "    return newString"
      ],
      "execution_count": 91,
      "outputs": []
    },
    {
      "cell_type": "code",
      "metadata": {
        "id": "gks2rIBct9Qj",
        "colab": {
          "base_uri": "https://localhost:8080/"
        },
        "outputId": "a3963675-7a25-43e7-9eda-5ad13ae9939c"
      },
      "source": [
        "for i in range(20):\n",
        "    print(\"Text:\",seq2text(X_train[i]))\n",
        "    print(\"Original title:\",seq2summary(Y_train[i]))\n",
        "    print(\"Predicted title:\",decode_sequence(X_train[i].reshape(1, -1)))\n",
        "    print(\"\\n\")"
      ],
      "execution_count": 92,
      "outputs": [
        {
          "output_type": "stream",
          "text": [
            "Text: i have bought several of the vitality canned dog food products and have found them all to be of good quality the product looks more like a stew than a processed meat and it smells better my labrador is finicky and she appreciates this product better than most \n",
            "Original title: good quality dog food \n",
            "Predicted title:  great product\n",
            "\n",
            "\n",
            "Text: product arrived labeled as jumbo salted peanuts the peanuts were actually small sized unsalted not sure if this was an error or if the vendor intended to represent the product as jumbo \n",
            "Original title: not as advertised \n",
            "Predicted title:  not as good as the product\n",
            "\n",
            "\n",
            "Text: this is a confection that has been around a few centuries it is a light pillowy citrus gelatin with nuts in this case filberts and it is cut into tiny squares and then liberally coated with powdered sugar and it is a tiny mouthful of heaven not too chewy and very flavorful i highly recommend this yummy treat if you are familiar with the story of c s lewis' the lion the witch and the wardrobe this is the treat that seduces edmund into selling out his brother and sisters to the witch \n",
            "Original title: delight says it all \n",
            "Predicted title:  great product\n",
            "\n",
            "\n",
            "Text: if you are looking for the secret ingredient in robitussin i believe i have found it i got this in addition to the root beer extract i ordered which was good and made some cherry soda the flavor is very medicinal \n",
            "Original title: cough medicine \n",
            "Predicted title:  good but not as good as the bit own\n",
            "\n",
            "\n",
            "Text: great taffy at a great price there was a wide assortment of yummy taffy delivery was very quick if your a taffy lover this is a deal \n",
            "Original title: great taffy \n",
            "Predicted title:  great product\n",
            "\n",
            "\n",
            "Text: i got a wild hair for taffy and ordered this five pound bag the taffy was all very enjoyable with many flavors watermelon root beer melon peppermint grape etc my only complaint is there was a bit too much red black licorice flavored pieces just not my particular favorites between me my kids and my husband this lasted only two weeks i would recommend this brand of taffy it was a delightful treat \n",
            "Original title: nice taffy \n",
            "Predicted title:  great taste\n",
            "\n",
            "\n",
            "Text: this saltwater taffy had great flavors and was very soft and chewy each candy was individually wrapped well none of the candies were stuck together which did happen in the expensive version fralinger's would highly recommend this candy i served it at a beach themed party and everyone loved it \n",
            "Original title: great just as good as the expensive brands \n",
            "Predicted title:  great product\n",
            "\n",
            "\n",
            "Text: this taffy is so good it is very soft and chewy the flavors are amazing i would definitely recommend you buying it very satisfying \n",
            "Original title: wonderful tasty taffy \n",
            "Predicted title:  great taste\n",
            "\n",
            "\n",
            "Text: right now i'm mostly just sprouting this so my cats can eat the grass they love it i rotate it around with wheatgrass and rye too \n",
            "Original title: yay barley \n",
            "Predicted title:  my cat loves this\n",
            "\n",
            "\n",
            "Text: this is a very healthy dog food good for their digestion also good for small puppies my dog eats her required amount at every feeding \n",
            "Original title: healthy dog food \n",
            "Predicted title:  great product\n",
            "\n",
            "\n",
            "Text: i don't know if it's the cactus or the tequila or just the unique combination of ingredients but the flavour of this hot sauce makes it one of a kind we picked up a bottle once on a trip we were on and brought it back home with us and were totally blown away when we realized that we simply couldn't find it anywhere in our city we were bummed br br now because of the magic of the internet we have a case of the sauce and are ecstatic because of it br br if you love hot sauce i mean really love hot sauce but don't want a sauce that tastelessly burns your throat grab a bottle of tequila picante gourmet de inclan just realize that once you taste it you will never want to use any other sauce br br thank you for the personal incredible service \n",
            "Original title: the best hot sauce in the world \n",
            "Predicted title:  great taste\n",
            "\n",
            "\n",
            "Text: one of my boys needed to lose some weight and the other didn't i put this food on the floor for the chubby guy and the protein rich no by product food up higher where only my skinny boy can jump the higher food sits going stale they both really go for this food and my chubby boy has been losing about an ounce a week \n",
            "Original title: my cats love this diet food better than their regular food \n",
            "Predicted title:  great food\n",
            "\n",
            "\n",
            "Text: my cats have been happily eating felidae platinum for more than two years i just got a new bag and the shape of the food is different they tried the new food when i first put it in their bowls and now the bowls sit full and the kitties will not touch the food i've noticed similar reviews related to formula changes in the past unfortunately i now need to find a new food that my cats will eat \n",
            "Original title: my cats are not fans of the new food \n",
            "Predicted title:  good for cats\n",
            "\n",
            "\n",
            "Text: good flavor these came securely packed they were fresh and delicious i love these twizzlers \n",
            "Original title: fresh and greasy \n",
            "Predicted title:  great taste\n",
            "\n",
            "\n",
            "Text: the strawberry twizzlers are my guilty pleasure yummy six pounds will be around for a while with my son and i \n",
            "Original title: strawberry twizzlers yummy \n",
            "Predicted title:  great taste\n",
            "\n",
            "\n",
            "Text: my daughter loves twizzlers and this shipment of six pounds really hit the spot it's exactly what you would expect six packages of strawberry twizzlers \n",
            "Original title: lots of twizzlers just what you expect \n",
            "Predicted title:  great product\n",
            "\n",
            "\n",
            "Text: i love eating them and they are good for watching tv and looking at movies it is not too sweet i like to transfer them to a zip lock baggie so they stay fresh so i can take my time eating them \n",
            "Original title: poor taste \n",
            "Predicted title:  great snack\n",
            "\n",
            "\n",
            "Text: i am very satisfied with my twizzler purchase i shared these with others and we have all enjoyed them i will definitely be ordering more \n",
            "Original title: love it \n",
            "Predicted title:  great\n",
            "\n",
            "\n",
            "Text: twizzlers strawberry my childhood favorite candy made in lancaster pennsylvania by y s candies inc one of the oldest confectionery firms in the united states now a subsidiary of the hershey company the company was established in 1845 as young and smylie they also make apple licorice twists green color and blue raspberry licorice twists i like them all br br i keep it in a dry cool place because is not recommended it to put it in the fridge according to the guinness book of records the longest licorice twist ever made measured 1 200 feet 370 m and weighted 100 pounds 45 kg and was made by y s candies inc this record breaking twist became a guinness world record on july 19 1998 this product is kosher thank you \n",
            "Original title: great sweet candy \n",
            "Predicted title:  great for a little healthy\n",
            "\n",
            "\n",
            "Text: candy was delivered very fast and was purchased at a reasonable price i was home bound and unable to get to a store so this was perfect for me \n",
            "Original title: home delivered twizlers \n",
            "Predicted title:  great\n",
            "\n",
            "\n"
          ],
          "name": "stdout"
        }
      ]
    },
    {
      "cell_type": "code",
      "metadata": {
        "id": "-eIj3AXi46sE"
      },
      "source": [
        ""
      ],
      "execution_count": null,
      "outputs": []
    }
  ]
}